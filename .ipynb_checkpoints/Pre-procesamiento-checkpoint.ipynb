{
 "cells": [
  {
   "cell_type": "code",
   "execution_count": 2,
   "id": "7f4f1422",
   "metadata": {},
   "outputs": [],
   "source": [
    "import pandas as pd\n",
    "import numpy as np"
   ]
  },
  {
   "cell_type": "markdown",
   "id": "42da192c",
   "metadata": {},
   "source": [
    "### Cargar datos"
   ]
  },
  {
   "cell_type": "code",
   "execution_count": 2,
   "id": "00816e91",
   "metadata": {},
   "outputs": [],
   "source": [
    "listings = pd.read_csv(\"Beijing Airbnb Data(clean)/listings_clean.csv\")"
   ]
  },
  {
   "cell_type": "code",
   "execution_count": 49,
   "id": "d115b2d3",
   "metadata": {},
   "outputs": [],
   "source": [
    "calendar = pd.read_csv(\"Beijing Airbnb Data(clean)/calendar_detail.csv\")"
   ]
  },
  {
   "cell_type": "code",
   "execution_count": 4,
   "id": "1a050c0a",
   "metadata": {},
   "outputs": [],
   "source": [
    "reviews = pd.read_csv(\"Beijing Airbnb Data(clean)/reviews_detail.csv\")"
   ]
  },
  {
   "cell_type": "code",
   "execution_count": 5,
   "id": "a2e243dc",
   "metadata": {
    "scrolled": true
   },
   "outputs": [
    {
     "name": "stdout",
     "output_type": "stream",
     "text": [
      "(28448, 15) (202099, 5) (10384980, 7)\n"
     ]
    }
   ],
   "source": [
    "print(listings.shape,reviews.shape,calendar.shape)"
   ]
  },
  {
   "cell_type": "markdown",
   "id": "50349d00",
   "metadata": {},
   "source": [
    "#### Pre-procesamiento listings"
   ]
  },
  {
   "cell_type": "code",
   "execution_count": 6,
   "id": "0340b9b6",
   "metadata": {
    "scrolled": false
   },
   "outputs": [
    {
     "data": {
      "text/html": [
       "<div>\n",
       "<style scoped>\n",
       "    .dataframe tbody tr th:only-of-type {\n",
       "        vertical-align: middle;\n",
       "    }\n",
       "\n",
       "    .dataframe tbody tr th {\n",
       "        vertical-align: top;\n",
       "    }\n",
       "\n",
       "    .dataframe thead th {\n",
       "        text-align: right;\n",
       "    }\n",
       "</style>\n",
       "<table border=\"1\" class=\"dataframe\">\n",
       "  <thead>\n",
       "    <tr style=\"text-align: right;\">\n",
       "      <th></th>\n",
       "      <th>id</th>\n",
       "      <th>name</th>\n",
       "      <th>host_id</th>\n",
       "      <th>host_name</th>\n",
       "      <th>neighbourhood</th>\n",
       "      <th>latitude</th>\n",
       "      <th>longitude</th>\n",
       "      <th>room_type</th>\n",
       "      <th>price</th>\n",
       "      <th>minimum_nights</th>\n",
       "      <th>number_of_reviews</th>\n",
       "      <th>last_review</th>\n",
       "      <th>reviews_per_month</th>\n",
       "      <th>calculated_host_listings_count</th>\n",
       "      <th>availability_365</th>\n",
       "    </tr>\n",
       "  </thead>\n",
       "  <tbody>\n",
       "    <tr>\n",
       "      <th>0</th>\n",
       "      <td>44054</td>\n",
       "      <td>Modern and Comfortable Living in CBD</td>\n",
       "      <td>192875</td>\n",
       "      <td>East Apartments</td>\n",
       "      <td>朝阳区</td>\n",
       "      <td>39.89503</td>\n",
       "      <td>116.45163</td>\n",
       "      <td>Entire home/apt</td>\n",
       "      <td>792</td>\n",
       "      <td>1</td>\n",
       "      <td>89</td>\n",
       "      <td>2019-03-04</td>\n",
       "      <td>0.85</td>\n",
       "      <td>9</td>\n",
       "      <td>341</td>\n",
       "    </tr>\n",
       "    <tr>\n",
       "      <th>1</th>\n",
       "      <td>100213</td>\n",
       "      <td>The Great Wall Box Deluxe Suite A团园长城小院东院套房</td>\n",
       "      <td>527062</td>\n",
       "      <td>Joe</td>\n",
       "      <td>密云县</td>\n",
       "      <td>40.68434</td>\n",
       "      <td>117.17231</td>\n",
       "      <td>Private room</td>\n",
       "      <td>1201</td>\n",
       "      <td>1</td>\n",
       "      <td>2</td>\n",
       "      <td>2017-10-08</td>\n",
       "      <td>0.10</td>\n",
       "      <td>4</td>\n",
       "      <td>0</td>\n",
       "    </tr>\n",
       "    <tr>\n",
       "      <th>2</th>\n",
       "      <td>128496</td>\n",
       "      <td>Heart of Beijing: House with View 2</td>\n",
       "      <td>467520</td>\n",
       "      <td>Cindy</td>\n",
       "      <td>东城区</td>\n",
       "      <td>39.93213</td>\n",
       "      <td>116.42200</td>\n",
       "      <td>Entire home/apt</td>\n",
       "      <td>389</td>\n",
       "      <td>3</td>\n",
       "      <td>259</td>\n",
       "      <td>2019-02-05</td>\n",
       "      <td>2.70</td>\n",
       "      <td>1</td>\n",
       "      <td>93</td>\n",
       "    </tr>\n",
       "    <tr>\n",
       "      <th>3</th>\n",
       "      <td>161902</td>\n",
       "      <td>cozy studio in center of Beijing</td>\n",
       "      <td>707535</td>\n",
       "      <td>Robert</td>\n",
       "      <td>东城区</td>\n",
       "      <td>39.93357</td>\n",
       "      <td>116.43577</td>\n",
       "      <td>Entire home/apt</td>\n",
       "      <td>376</td>\n",
       "      <td>1</td>\n",
       "      <td>26</td>\n",
       "      <td>2016-12-03</td>\n",
       "      <td>0.28</td>\n",
       "      <td>5</td>\n",
       "      <td>290</td>\n",
       "    </tr>\n",
       "    <tr>\n",
       "      <th>4</th>\n",
       "      <td>162144</td>\n",
       "      <td>nice studio near subway, sleep 4</td>\n",
       "      <td>707535</td>\n",
       "      <td>Robert</td>\n",
       "      <td>朝阳区</td>\n",
       "      <td>39.93668</td>\n",
       "      <td>116.43798</td>\n",
       "      <td>Entire home/apt</td>\n",
       "      <td>537</td>\n",
       "      <td>1</td>\n",
       "      <td>37</td>\n",
       "      <td>2018-08-01</td>\n",
       "      <td>0.40</td>\n",
       "      <td>5</td>\n",
       "      <td>352</td>\n",
       "    </tr>\n",
       "  </tbody>\n",
       "</table>\n",
       "</div>"
      ],
      "text/plain": [
       "       id                                         name  host_id  \\\n",
       "0   44054         Modern and Comfortable Living in CBD   192875   \n",
       "1  100213  The Great Wall Box Deluxe Suite A团园长城小院东院套房   527062   \n",
       "2  128496          Heart of Beijing: House with View 2   467520   \n",
       "3  161902             cozy studio in center of Beijing   707535   \n",
       "4  162144            nice studio near subway, sleep 4    707535   \n",
       "\n",
       "         host_name neighbourhood  latitude  longitude        room_type  price  \\\n",
       "0  East Apartments          朝阳区   39.89503  116.45163  Entire home/apt    792   \n",
       "1              Joe          密云县   40.68434  117.17231     Private room   1201   \n",
       "2            Cindy           东城区  39.93213  116.42200  Entire home/apt    389   \n",
       "3           Robert           东城区  39.93357  116.43577  Entire home/apt    376   \n",
       "4           Robert          朝阳区   39.93668  116.43798  Entire home/apt    537   \n",
       "\n",
       "   minimum_nights  number_of_reviews last_review  reviews_per_month  \\\n",
       "0               1                 89  2019-03-04               0.85   \n",
       "1               1                  2  2017-10-08               0.10   \n",
       "2               3                259  2019-02-05               2.70   \n",
       "3               1                 26  2016-12-03               0.28   \n",
       "4               1                 37  2018-08-01               0.40   \n",
       "\n",
       "   calculated_host_listings_count  availability_365  \n",
       "0                               9               341  \n",
       "1                               4                 0  \n",
       "2                               1                93  \n",
       "3                               5               290  \n",
       "4                               5               352  "
      ]
     },
     "execution_count": 6,
     "metadata": {},
     "output_type": "execute_result"
    }
   ],
   "source": [
    "listings.head(5)"
   ]
  },
  {
   "cell_type": "code",
   "execution_count": 18,
   "id": "15cfa67d",
   "metadata": {
    "scrolled": true
   },
   "outputs": [
    {
     "data": {
      "text/plain": [
       "id                  0\n",
       "name                0\n",
       "host_id             0\n",
       "host_name           0\n",
       "room_type           0\n",
       "price               0\n",
       "minimum_nights      0\n",
       "availability_365    0\n",
       "dtype: int64"
      ]
     },
     "execution_count": 18,
     "metadata": {},
     "output_type": "execute_result"
    }
   ],
   "source": [
    "listings.isna().sum()"
   ]
  },
  {
   "cell_type": "code",
   "execution_count": 11,
   "id": "2c8d9840",
   "metadata": {},
   "outputs": [],
   "source": [
    "listings['last_review']=listings['last_review'].replace(np.nan, 'No reviews', regex=True)"
   ]
  },
  {
   "cell_type": "code",
   "execution_count": 12,
   "id": "545c0d50",
   "metadata": {},
   "outputs": [
    {
     "data": {
      "text/plain": [
       "id                                0\n",
       "name                              0\n",
       "host_id                           0\n",
       "host_name                         0\n",
       "neighbourhood                     0\n",
       "latitude                          0\n",
       "longitude                         0\n",
       "room_type                         0\n",
       "price                             0\n",
       "minimum_nights                    0\n",
       "number_of_reviews                 0\n",
       "last_review                       0\n",
       "reviews_per_month                 0\n",
       "calculated_host_listings_count    0\n",
       "availability_365                  0\n",
       "dtype: int64"
      ]
     },
     "execution_count": 12,
     "metadata": {},
     "output_type": "execute_result"
    }
   ],
   "source": [
    "listings.isna().sum()"
   ]
  },
  {
   "cell_type": "code",
   "execution_count": 13,
   "id": "db2fba7b",
   "metadata": {},
   "outputs": [],
   "source": [
    "loc=listings[['id','latitude','longitude']]"
   ]
  },
  {
   "cell_type": "code",
   "execution_count": 15,
   "id": "8a1424cc",
   "metadata": {},
   "outputs": [],
   "source": [
    "loc.to_csv('db_final/location.csv',index=False)"
   ]
  },
  {
   "cell_type": "code",
   "execution_count": 16,
   "id": "85641407",
   "metadata": {},
   "outputs": [],
   "source": [
    "listings=listings.drop(['neighbourhood','number_of_reviews','last_review','reviews_per_month',\n",
    "                        'calculated_host_listings_count','latitude','longitude'], axis=1)"
   ]
  },
  {
   "cell_type": "code",
   "execution_count": 17,
   "id": "9a8eaf45",
   "metadata": {},
   "outputs": [],
   "source": [
    "listings.to_csv('listings_final.csv',index=False) #para traducir"
   ]
  },
  {
   "cell_type": "code",
   "execution_count": 40,
   "id": "f8013ddd",
   "metadata": {},
   "outputs": [],
   "source": [
    "listings = pd.read_csv(\"table_listing.csv\") #traducido"
   ]
  },
  {
   "cell_type": "code",
   "execution_count": 41,
   "id": "89affdea",
   "metadata": {
    "scrolled": true
   },
   "outputs": [
    {
     "data": {
      "text/html": [
       "<div>\n",
       "<style scoped>\n",
       "    .dataframe tbody tr th:only-of-type {\n",
       "        vertical-align: middle;\n",
       "    }\n",
       "\n",
       "    .dataframe tbody tr th {\n",
       "        vertical-align: top;\n",
       "    }\n",
       "\n",
       "    .dataframe thead th {\n",
       "        text-align: right;\n",
       "    }\n",
       "</style>\n",
       "<table border=\"1\" class=\"dataframe\">\n",
       "  <thead>\n",
       "    <tr style=\"text-align: right;\">\n",
       "      <th></th>\n",
       "      <th>id</th>\n",
       "      <th>name</th>\n",
       "      <th>host_id</th>\n",
       "      <th>host_name</th>\n",
       "      <th>room_type</th>\n",
       "      <th>price</th>\n",
       "      <th>minimum_nights</th>\n",
       "      <th>availability_365</th>\n",
       "      <th>Unnamed: 8</th>\n",
       "      <th>name_en</th>\n",
       "      <th>host_name_en</th>\n",
       "    </tr>\n",
       "  </thead>\n",
       "  <tbody>\n",
       "    <tr>\n",
       "      <th>0</th>\n",
       "      <td>44054</td>\n",
       "      <td>Modern and Comfortable Living in CBD</td>\n",
       "      <td>192875</td>\n",
       "      <td>East Apartments</td>\n",
       "      <td>Entire home/apt</td>\n",
       "      <td>792</td>\n",
       "      <td>1</td>\n",
       "      <td>341</td>\n",
       "      <td>NaN</td>\n",
       "      <td>Modern and Comfortable Living in CBD</td>\n",
       "      <td>East Apartments</td>\n",
       "    </tr>\n",
       "    <tr>\n",
       "      <th>1</th>\n",
       "      <td>100213</td>\n",
       "      <td>The Great Wall Box Deluxe Suite A团园长城小院东院套房</td>\n",
       "      <td>527062</td>\n",
       "      <td>Joe</td>\n",
       "      <td>Private room</td>\n",
       "      <td>1201</td>\n",
       "      <td>1</td>\n",
       "      <td>0</td>\n",
       "      <td>NaN</td>\n",
       "      <td>The Great Wall Box Deluxe Suite A Group Garden...</td>\n",
       "      <td>Joe</td>\n",
       "    </tr>\n",
       "    <tr>\n",
       "      <th>2</th>\n",
       "      <td>128496</td>\n",
       "      <td>Heart of Beijing: House with View 2</td>\n",
       "      <td>467520</td>\n",
       "      <td>Cindy</td>\n",
       "      <td>Entire home/apt</td>\n",
       "      <td>389</td>\n",
       "      <td>3</td>\n",
       "      <td>93</td>\n",
       "      <td>NaN</td>\n",
       "      <td>Heart of Beijing: House with View 2</td>\n",
       "      <td>Cindy</td>\n",
       "    </tr>\n",
       "    <tr>\n",
       "      <th>3</th>\n",
       "      <td>161902</td>\n",
       "      <td>cozy studio in center of Beijing</td>\n",
       "      <td>707535</td>\n",
       "      <td>Robert</td>\n",
       "      <td>Entire home/apt</td>\n",
       "      <td>376</td>\n",
       "      <td>1</td>\n",
       "      <td>290</td>\n",
       "      <td>NaN</td>\n",
       "      <td>cozy studio in center of Beijing</td>\n",
       "      <td>Robert</td>\n",
       "    </tr>\n",
       "    <tr>\n",
       "      <th>4</th>\n",
       "      <td>162144</td>\n",
       "      <td>nice studio near subway, sleep 4</td>\n",
       "      <td>707535</td>\n",
       "      <td>Robert</td>\n",
       "      <td>Entire home/apt</td>\n",
       "      <td>537</td>\n",
       "      <td>1</td>\n",
       "      <td>352</td>\n",
       "      <td>NaN</td>\n",
       "      <td>nice studio near subway, sleep 4</td>\n",
       "      <td>Robert</td>\n",
       "    </tr>\n",
       "  </tbody>\n",
       "</table>\n",
       "</div>"
      ],
      "text/plain": [
       "       id                                         name  host_id  \\\n",
       "0   44054         Modern and Comfortable Living in CBD   192875   \n",
       "1  100213  The Great Wall Box Deluxe Suite A团园长城小院东院套房   527062   \n",
       "2  128496          Heart of Beijing: House with View 2   467520   \n",
       "3  161902             cozy studio in center of Beijing   707535   \n",
       "4  162144            nice studio near subway, sleep 4    707535   \n",
       "\n",
       "         host_name        room_type  price  minimum_nights  availability_365  \\\n",
       "0  East Apartments  Entire home/apt    792               1               341   \n",
       "1              Joe     Private room   1201               1                 0   \n",
       "2            Cindy  Entire home/apt    389               3                93   \n",
       "3           Robert  Entire home/apt    376               1               290   \n",
       "4           Robert  Entire home/apt    537               1               352   \n",
       "\n",
       "   Unnamed: 8                                            name_en  \\\n",
       "0         NaN               Modern and Comfortable Living in CBD   \n",
       "1         NaN  The Great Wall Box Deluxe Suite A Group Garden...   \n",
       "2         NaN                Heart of Beijing: House with View 2   \n",
       "3         NaN                   cozy studio in center of Beijing   \n",
       "4         NaN                  nice studio near subway, sleep 4    \n",
       "\n",
       "      host_name_en  \n",
       "0  East Apartments  \n",
       "1              Joe  \n",
       "2            Cindy  \n",
       "3           Robert  \n",
       "4           Robert  "
      ]
     },
     "execution_count": 41,
     "metadata": {},
     "output_type": "execute_result"
    }
   ],
   "source": [
    "listings.head(5)"
   ]
  },
  {
   "cell_type": "code",
   "execution_count": 42,
   "id": "db79909a",
   "metadata": {},
   "outputs": [],
   "source": [
    "listings=listings.drop(['name','host_name', 'Unnamed: 8'], axis=1)\n",
    "listings.rename(columns={'name_en': 'name', 'host_name_en':'host_name'}, inplace=True)"
   ]
  },
  {
   "cell_type": "code",
   "execution_count": 43,
   "id": "dcc4b98d",
   "metadata": {},
   "outputs": [],
   "source": [
    "listings=listings[['id','name','host_id','host_name','room_type','price','minimum_nights','availability_365']]"
   ]
  },
  {
   "cell_type": "code",
   "execution_count": 44,
   "id": "06027d23",
   "metadata": {},
   "outputs": [
    {
     "name": "stderr",
     "output_type": "stream",
     "text": [
      "<ipython-input-44-d2caa83fa581>:1: FutureWarning: The default value of regex will change from True to False in a future version.\n",
      "  listings['name']=listings['name'].str.replace(r'\\n', ' ')\n",
      "<ipython-input-44-d2caa83fa581>:2: FutureWarning: The default value of regex will change from True to False in a future version.\n",
      "  listings['name']=listings['name'].str.replace('\\s+', ' ')\n",
      "<ipython-input-44-d2caa83fa581>:3: FutureWarning: The default value of regex will change from True to False in a future version.\n",
      "  listings['name']=listings['name'].str.replace('[^0-9a-zA-Z.,\\s]', ' ')\n"
     ]
    }
   ],
   "source": [
    "listings['name']=listings['name'].str.replace(r'\\n', ' ')\n",
    "listings['name']=listings['name'].str.replace('\\s+', ' ')\n",
    "listings['name']=listings['name'].str.replace('[^0-9a-zA-Z.,\\s]', ' ')"
   ]
  },
  {
   "cell_type": "code",
   "execution_count": 45,
   "id": "03432d4c",
   "metadata": {},
   "outputs": [
    {
     "data": {
      "text/html": [
       "<div>\n",
       "<style scoped>\n",
       "    .dataframe tbody tr th:only-of-type {\n",
       "        vertical-align: middle;\n",
       "    }\n",
       "\n",
       "    .dataframe tbody tr th {\n",
       "        vertical-align: top;\n",
       "    }\n",
       "\n",
       "    .dataframe thead th {\n",
       "        text-align: right;\n",
       "    }\n",
       "</style>\n",
       "<table border=\"1\" class=\"dataframe\">\n",
       "  <thead>\n",
       "    <tr style=\"text-align: right;\">\n",
       "      <th></th>\n",
       "      <th>id</th>\n",
       "      <th>name</th>\n",
       "      <th>host_id</th>\n",
       "      <th>host_name</th>\n",
       "      <th>room_type</th>\n",
       "      <th>price</th>\n",
       "      <th>minimum_nights</th>\n",
       "      <th>availability_365</th>\n",
       "    </tr>\n",
       "  </thead>\n",
       "  <tbody>\n",
       "    <tr>\n",
       "      <th>0</th>\n",
       "      <td>44054</td>\n",
       "      <td>Modern and Comfortable Living in CBD</td>\n",
       "      <td>192875</td>\n",
       "      <td>East Apartments</td>\n",
       "      <td>Entire home/apt</td>\n",
       "      <td>792</td>\n",
       "      <td>1</td>\n",
       "      <td>341</td>\n",
       "    </tr>\n",
       "    <tr>\n",
       "      <th>1</th>\n",
       "      <td>100213</td>\n",
       "      <td>The Great Wall Box Deluxe Suite A Group Garden...</td>\n",
       "      <td>527062</td>\n",
       "      <td>Joe</td>\n",
       "      <td>Private room</td>\n",
       "      <td>1201</td>\n",
       "      <td>1</td>\n",
       "      <td>0</td>\n",
       "    </tr>\n",
       "    <tr>\n",
       "      <th>2</th>\n",
       "      <td>128496</td>\n",
       "      <td>Heart of Beijing  House with View 2</td>\n",
       "      <td>467520</td>\n",
       "      <td>Cindy</td>\n",
       "      <td>Entire home/apt</td>\n",
       "      <td>389</td>\n",
       "      <td>3</td>\n",
       "      <td>93</td>\n",
       "    </tr>\n",
       "    <tr>\n",
       "      <th>3</th>\n",
       "      <td>161902</td>\n",
       "      <td>cozy studio in center of Beijing</td>\n",
       "      <td>707535</td>\n",
       "      <td>Robert</td>\n",
       "      <td>Entire home/apt</td>\n",
       "      <td>376</td>\n",
       "      <td>1</td>\n",
       "      <td>290</td>\n",
       "    </tr>\n",
       "    <tr>\n",
       "      <th>4</th>\n",
       "      <td>162144</td>\n",
       "      <td>nice studio near subway, sleep 4</td>\n",
       "      <td>707535</td>\n",
       "      <td>Robert</td>\n",
       "      <td>Entire home/apt</td>\n",
       "      <td>537</td>\n",
       "      <td>1</td>\n",
       "      <td>352</td>\n",
       "    </tr>\n",
       "  </tbody>\n",
       "</table>\n",
       "</div>"
      ],
      "text/plain": [
       "       id                                               name  host_id  \\\n",
       "0   44054               Modern and Comfortable Living in CBD   192875   \n",
       "1  100213  The Great Wall Box Deluxe Suite A Group Garden...   527062   \n",
       "2  128496                Heart of Beijing  House with View 2   467520   \n",
       "3  161902                   cozy studio in center of Beijing   707535   \n",
       "4  162144                  nice studio near subway, sleep 4    707535   \n",
       "\n",
       "         host_name        room_type  price  minimum_nights  availability_365  \n",
       "0  East Apartments  Entire home/apt    792               1               341  \n",
       "1              Joe     Private room   1201               1                 0  \n",
       "2            Cindy  Entire home/apt    389               3                93  \n",
       "3           Robert  Entire home/apt    376               1               290  \n",
       "4           Robert  Entire home/apt    537               1               352  "
      ]
     },
     "execution_count": 45,
     "metadata": {},
     "output_type": "execute_result"
    }
   ],
   "source": [
    "listings.head(5)"
   ]
  },
  {
   "cell_type": "code",
   "execution_count": 46,
   "id": "c07d86fc",
   "metadata": {},
   "outputs": [],
   "source": [
    "listings.to_csv('db_final/listings.csv',index=False)"
   ]
  },
  {
   "cell_type": "markdown",
   "id": "b8822367",
   "metadata": {},
   "source": [
    "#### Pre-procesamiento reviews"
   ]
  },
  {
   "cell_type": "code",
   "execution_count": 31,
   "id": "dac776e7",
   "metadata": {},
   "outputs": [],
   "source": [
    "for x in reviews.listing_id.array:\n",
    "    if x not in listings.id.array:\n",
    "        reviews.drop(reviews.loc[reviews['listing_id']==x].index, inplace=True)"
   ]
  },
  {
   "cell_type": "code",
   "execution_count": 32,
   "id": "aec0ea9e",
   "metadata": {},
   "outputs": [
    {
     "data": {
      "text/plain": [
       "(202018, 5)"
      ]
     },
     "execution_count": 32,
     "metadata": {},
     "output_type": "execute_result"
    }
   ],
   "source": [
    "reviews.shape"
   ]
  },
  {
   "cell_type": "code",
   "execution_count": 49,
   "id": "d4021f87",
   "metadata": {},
   "outputs": [],
   "source": [
    "reviews=reviews.drop(columns=['id'], axis=1)"
   ]
  },
  {
   "cell_type": "code",
   "execution_count": 50,
   "id": "7d686e46",
   "metadata": {},
   "outputs": [
    {
     "data": {
      "text/plain": [
       "17293"
      ]
     },
     "execution_count": 50,
     "metadata": {},
     "output_type": "execute_result"
    }
   ],
   "source": [
    "len(reviews.listing_id.unique())"
   ]
  },
  {
   "cell_type": "code",
   "execution_count": 51,
   "id": "72407173",
   "metadata": {},
   "outputs": [],
   "source": [
    "n = reviews.shape[0]\n",
    "reviews_sample = reviews.groupby('listing_id', group_keys=False).apply(lambda x: x.sample(int(np.ceil(50000*len(x)/len(reviews))))).sample(frac=1).reset_index(drop=True)\n",
    "\n"
   ]
  },
  {
   "cell_type": "code",
   "execution_count": 53,
   "id": "c456bcc1",
   "metadata": {},
   "outputs": [
    {
     "data": {
      "text/plain": [
       "17293"
      ]
     },
     "execution_count": 53,
     "metadata": {},
     "output_type": "execute_result"
    }
   ],
   "source": [
    "len(reviews.listing_id.unique())"
   ]
  },
  {
   "cell_type": "code",
   "execution_count": 54,
   "id": "8ad98b01",
   "metadata": {},
   "outputs": [
    {
     "data": {
      "text/html": [
       "<div>\n",
       "<style scoped>\n",
       "    .dataframe tbody tr th:only-of-type {\n",
       "        vertical-align: middle;\n",
       "    }\n",
       "\n",
       "    .dataframe tbody tr th {\n",
       "        vertical-align: top;\n",
       "    }\n",
       "\n",
       "    .dataframe thead th {\n",
       "        text-align: right;\n",
       "    }\n",
       "</style>\n",
       "<table border=\"1\" class=\"dataframe\">\n",
       "  <thead>\n",
       "    <tr style=\"text-align: right;\">\n",
       "      <th></th>\n",
       "      <th>listing_id</th>\n",
       "      <th>date</th>\n",
       "      <th>reviewer_name</th>\n",
       "      <th>comments</th>\n",
       "    </tr>\n",
       "  </thead>\n",
       "  <tbody>\n",
       "    <tr>\n",
       "      <th>0</th>\n",
       "      <td>24635576</td>\n",
       "      <td>24-03-19</td>\n",
       "      <td>源媛</td>\n",
       "      <td>这个地方位置特别好,闹中取静｡特别适合带老人孩子来,里外间的方型,走到南锣鼓巷地铁站也就几分...</td>\n",
       "    </tr>\n",
       "    <tr>\n",
       "      <th>1</th>\n",
       "      <td>22512229</td>\n",
       "      <td>20-01-19</td>\n",
       "      <td>普</td>\n",
       "      <td>不错 很值的 很干净整洁下次还会去</td>\n",
       "    </tr>\n",
       "    <tr>\n",
       "      <th>2</th>\n",
       "      <td>20201819</td>\n",
       "      <td>04-04-19</td>\n",
       "      <td>远凝</td>\n",
       "      <td>The host canceled this reservation the day bef...</td>\n",
       "    </tr>\n",
       "    <tr>\n",
       "      <th>3</th>\n",
       "      <td>13901242</td>\n",
       "      <td>29-08-16</td>\n",
       "      <td>向阳</td>\n",
       "      <td>Nice party place. Nice design.\\r\\nDont hesitat...</td>\n",
       "    </tr>\n",
       "    <tr>\n",
       "      <th>4</th>\n",
       "      <td>17898612</td>\n",
       "      <td>07-10-17</td>\n",
       "      <td>Yuka</td>\n",
       "      <td>小姐姐很nice,so easy-going ,是一位很漂亮的小姐姐呢~  记得有天我回家晚...</td>\n",
       "    </tr>\n",
       "  </tbody>\n",
       "</table>\n",
       "</div>"
      ],
      "text/plain": [
       "   listing_id      date reviewer_name  \\\n",
       "0    24635576  24-03-19            源媛   \n",
       "1    22512229  20-01-19             普   \n",
       "2    20201819  04-04-19            远凝   \n",
       "3    13901242  29-08-16            向阳   \n",
       "4    17898612  07-10-17          Yuka   \n",
       "\n",
       "                                            comments  \n",
       "0  这个地方位置特别好,闹中取静｡特别适合带老人孩子来,里外间的方型,走到南锣鼓巷地铁站也就几分...  \n",
       "1                                  不错 很值的 很干净整洁下次还会去  \n",
       "2  The host canceled this reservation the day bef...  \n",
       "3  Nice party place. Nice design.\\r\\nDont hesitat...  \n",
       "4  小姐姐很nice,so easy-going ,是一位很漂亮的小姐姐呢~  记得有天我回家晚...  "
      ]
     },
     "execution_count": 54,
     "metadata": {},
     "output_type": "execute_result"
    }
   ],
   "source": [
    "reviews_sample.head(5)"
   ]
  },
  {
   "cell_type": "code",
   "execution_count": 57,
   "id": "323a848c",
   "metadata": {
    "scrolled": true
   },
   "outputs": [
    {
     "data": {
      "text/plain": [
       "(58381, 4)"
      ]
     },
     "execution_count": 57,
     "metadata": {},
     "output_type": "execute_result"
    }
   ],
   "source": [
    "reviews_sample.shape"
   ]
  },
  {
   "cell_type": "code",
   "execution_count": 17,
   "id": "52a2c445",
   "metadata": {},
   "outputs": [
    {
     "ename": "NameError",
     "evalue": "name 'reviews_sample' is not defined",
     "output_type": "error",
     "traceback": [
      "\u001b[0;31m---------------------------------------------------------------------------\u001b[0m",
      "\u001b[0;31mNameError\u001b[0m                                 Traceback (most recent call last)",
      "\u001b[0;32m<ipython-input-17-7ac48d7da056>\u001b[0m in \u001b[0;36m<module>\u001b[0;34m\u001b[0m\n\u001b[0;32m----> 1\u001b[0;31m \u001b[0mreviews_sample\u001b[0m\u001b[0;34m.\u001b[0m\u001b[0mto_csv\u001b[0m\u001b[0;34m(\u001b[0m\u001b[0;34m'reviews_final.csv'\u001b[0m\u001b[0;34m,\u001b[0m\u001b[0mindex\u001b[0m\u001b[0;34m=\u001b[0m\u001b[0;32mFalse\u001b[0m\u001b[0;34m)\u001b[0m \u001b[0;31m#a traducir\u001b[0m\u001b[0;34m\u001b[0m\u001b[0;34m\u001b[0m\u001b[0m\n\u001b[0m",
      "\u001b[0;31mNameError\u001b[0m: name 'reviews_sample' is not defined"
     ]
    }
   ],
   "source": [
    "reviews_sample.to_csv('reviews_final.csv',index=False) #a traducir"
   ]
  },
  {
   "cell_type": "code",
   "execution_count": 33,
   "id": "1d5e99b6",
   "metadata": {},
   "outputs": [],
   "source": [
    "reviews = pd.read_csv(\"reviews_final2.csv\") #traducido"
   ]
  },
  {
   "cell_type": "code",
   "execution_count": 34,
   "id": "225ef255",
   "metadata": {
    "scrolled": true
   },
   "outputs": [
    {
     "data": {
      "text/html": [
       "<div>\n",
       "<style scoped>\n",
       "    .dataframe tbody tr th:only-of-type {\n",
       "        vertical-align: middle;\n",
       "    }\n",
       "\n",
       "    .dataframe tbody tr th {\n",
       "        vertical-align: top;\n",
       "    }\n",
       "\n",
       "    .dataframe thead th {\n",
       "        text-align: right;\n",
       "    }\n",
       "</style>\n",
       "<table border=\"1\" class=\"dataframe\">\n",
       "  <thead>\n",
       "    <tr style=\"text-align: right;\">\n",
       "      <th></th>\n",
       "      <th>listing_id</th>\n",
       "      <th>date</th>\n",
       "      <th>reviewer_name</th>\n",
       "      <th>comments</th>\n",
       "      <th>Unnamed: 4</th>\n",
       "      <th>Unnamed: 5</th>\n",
       "    </tr>\n",
       "  </thead>\n",
       "  <tbody>\n",
       "    <tr>\n",
       "      <th>0</th>\n",
       "      <td>24635576</td>\n",
       "      <td>24-03-19</td>\n",
       "      <td>源媛</td>\n",
       "      <td>这个地方位置特别好,闹中取静｡特别适合带老人孩子来,里外间的方型,走到南锣鼓巷地铁站也就几分...</td>\n",
       "      <td>Source Yuan</td>\n",
       "      <td>This place is particularly good location, quie...</td>\n",
       "    </tr>\n",
       "    <tr>\n",
       "      <th>1</th>\n",
       "      <td>22512229</td>\n",
       "      <td>20-01-19</td>\n",
       "      <td>普</td>\n",
       "      <td>不错 很值的 很干净整洁下次还会去</td>\n",
       "      <td>general</td>\n",
       "      <td>Very good value very clean and tidy will go next</td>\n",
       "    </tr>\n",
       "    <tr>\n",
       "      <th>2</th>\n",
       "      <td>20201819</td>\n",
       "      <td>04-04-19</td>\n",
       "      <td>远凝</td>\n",
       "      <td>The host canceled this reservation the day bef...</td>\n",
       "      <td>Far condensate</td>\n",
       "      <td>The host canceled this reservation the day bef...</td>\n",
       "    </tr>\n",
       "    <tr>\n",
       "      <th>3</th>\n",
       "      <td>13901242</td>\n",
       "      <td>29-08-16</td>\n",
       "      <td>向阳</td>\n",
       "      <td>Nice party place. Nice design.\\nDont hesitate ...</td>\n",
       "      <td>Sunningdale</td>\n",
       "      <td>Nice party place. Nice design.\\nDont hesitate ...</td>\n",
       "    </tr>\n",
       "    <tr>\n",
       "      <th>4</th>\n",
       "      <td>17898612</td>\n",
       "      <td>07-10-17</td>\n",
       "      <td>Yuka</td>\n",
       "      <td>小姐姐很nice,so easy-going ,是一位很漂亮的小姐姐呢~  记得有天我回家晚...</td>\n",
       "      <td>Yuka</td>\n",
       "      <td>Little sister is very nice, so easy-going, is ...</td>\n",
       "    </tr>\n",
       "  </tbody>\n",
       "</table>\n",
       "</div>"
      ],
      "text/plain": [
       "   listing_id      date reviewer_name  \\\n",
       "0    24635576  24-03-19            源媛   \n",
       "1    22512229  20-01-19             普   \n",
       "2    20201819  04-04-19            远凝   \n",
       "3    13901242  29-08-16            向阳   \n",
       "4    17898612  07-10-17          Yuka   \n",
       "\n",
       "                                            comments      Unnamed: 4  \\\n",
       "0  这个地方位置特别好,闹中取静｡特别适合带老人孩子来,里外间的方型,走到南锣鼓巷地铁站也就几分...     Source Yuan   \n",
       "1                                  不错 很值的 很干净整洁下次还会去         general   \n",
       "2  The host canceled this reservation the day bef...  Far condensate   \n",
       "3  Nice party place. Nice design.\\nDont hesitate ...     Sunningdale   \n",
       "4  小姐姐很nice,so easy-going ,是一位很漂亮的小姐姐呢~  记得有天我回家晚...            Yuka   \n",
       "\n",
       "                                          Unnamed: 5  \n",
       "0  This place is particularly good location, quie...  \n",
       "1   Very good value very clean and tidy will go next  \n",
       "2  The host canceled this reservation the day bef...  \n",
       "3  Nice party place. Nice design.\\nDont hesitate ...  \n",
       "4  Little sister is very nice, so easy-going, is ...  "
      ]
     },
     "execution_count": 34,
     "metadata": {},
     "output_type": "execute_result"
    }
   ],
   "source": [
    "reviews.head(5)"
   ]
  },
  {
   "cell_type": "code",
   "execution_count": 35,
   "id": "967cddb6",
   "metadata": {},
   "outputs": [],
   "source": [
    "reviews=reviews.drop(['reviewer_name','comments'], axis=1)\n",
    "reviews.rename(columns={'Unnamed: 4': 'reviewer_name', 'Unnamed: 5':'comments'}, inplace=True)"
   ]
  },
  {
   "cell_type": "code",
   "execution_count": 36,
   "id": "a38a04e8",
   "metadata": {},
   "outputs": [
    {
     "data": {
      "text/html": [
       "<div>\n",
       "<style scoped>\n",
       "    .dataframe tbody tr th:only-of-type {\n",
       "        vertical-align: middle;\n",
       "    }\n",
       "\n",
       "    .dataframe tbody tr th {\n",
       "        vertical-align: top;\n",
       "    }\n",
       "\n",
       "    .dataframe thead th {\n",
       "        text-align: right;\n",
       "    }\n",
       "</style>\n",
       "<table border=\"1\" class=\"dataframe\">\n",
       "  <thead>\n",
       "    <tr style=\"text-align: right;\">\n",
       "      <th></th>\n",
       "      <th>listing_id</th>\n",
       "      <th>date</th>\n",
       "      <th>reviewer_name</th>\n",
       "      <th>comments</th>\n",
       "    </tr>\n",
       "  </thead>\n",
       "  <tbody>\n",
       "    <tr>\n",
       "      <th>0</th>\n",
       "      <td>24635576</td>\n",
       "      <td>24-03-19</td>\n",
       "      <td>Source Yuan</td>\n",
       "      <td>This place is particularly good location, quie...</td>\n",
       "    </tr>\n",
       "    <tr>\n",
       "      <th>1</th>\n",
       "      <td>22512229</td>\n",
       "      <td>20-01-19</td>\n",
       "      <td>general</td>\n",
       "      <td>Very good value very clean and tidy will go next</td>\n",
       "    </tr>\n",
       "    <tr>\n",
       "      <th>2</th>\n",
       "      <td>20201819</td>\n",
       "      <td>04-04-19</td>\n",
       "      <td>Far condensate</td>\n",
       "      <td>The host canceled this reservation the day bef...</td>\n",
       "    </tr>\n",
       "    <tr>\n",
       "      <th>3</th>\n",
       "      <td>13901242</td>\n",
       "      <td>29-08-16</td>\n",
       "      <td>Sunningdale</td>\n",
       "      <td>Nice party place. Nice design.\\nDont hesitate ...</td>\n",
       "    </tr>\n",
       "    <tr>\n",
       "      <th>4</th>\n",
       "      <td>17898612</td>\n",
       "      <td>07-10-17</td>\n",
       "      <td>Yuka</td>\n",
       "      <td>Little sister is very nice, so easy-going, is ...</td>\n",
       "    </tr>\n",
       "  </tbody>\n",
       "</table>\n",
       "</div>"
      ],
      "text/plain": [
       "   listing_id      date   reviewer_name  \\\n",
       "0    24635576  24-03-19     Source Yuan   \n",
       "1    22512229  20-01-19         general   \n",
       "2    20201819  04-04-19  Far condensate   \n",
       "3    13901242  29-08-16     Sunningdale   \n",
       "4    17898612  07-10-17            Yuka   \n",
       "\n",
       "                                            comments  \n",
       "0  This place is particularly good location, quie...  \n",
       "1   Very good value very clean and tidy will go next  \n",
       "2  The host canceled this reservation the day bef...  \n",
       "3  Nice party place. Nice design.\\nDont hesitate ...  \n",
       "4  Little sister is very nice, so easy-going, is ...  "
      ]
     },
     "execution_count": 36,
     "metadata": {},
     "output_type": "execute_result"
    }
   ],
   "source": [
    "reviews.head(5)"
   ]
  },
  {
   "cell_type": "code",
   "execution_count": 37,
   "id": "74504066",
   "metadata": {},
   "outputs": [
    {
     "name": "stderr",
     "output_type": "stream",
     "text": [
      "<ipython-input-37-4f1c0b100152>:1: FutureWarning: The default value of regex will change from True to False in a future version.\n",
      "  reviews['comments']=reviews['comments'].str.replace(r'\\n', ' ')\n",
      "<ipython-input-37-4f1c0b100152>:2: FutureWarning: The default value of regex will change from True to False in a future version.\n",
      "  reviews['comments']=reviews['comments'].str.replace('\\s+', ' ')\n",
      "<ipython-input-37-4f1c0b100152>:3: FutureWarning: The default value of regex will change from True to False in a future version.\n",
      "  reviews['comments']=reviews['comments'].str.replace('[^0-9a-zA-Z.,\\s]', ' ')\n",
      "<ipython-input-37-4f1c0b100152>:4: FutureWarning: The default value of regex will change from True to False in a future version.\n",
      "  reviews['reviewer_name']=reviews['reviewer_name'].str.replace(r'\\n', ' ')\n",
      "<ipython-input-37-4f1c0b100152>:5: FutureWarning: The default value of regex will change from True to False in a future version.\n",
      "  reviews['reviewer_name']=reviews['reviewer_name'].str.replace('\\s+', ' ')\n",
      "<ipython-input-37-4f1c0b100152>:6: FutureWarning: The default value of regex will change from True to False in a future version.\n",
      "  reviews['reviewer_name']=reviews['reviewer_name'].str.replace('[^0-9a-zA-Z.,\\s]', ' ')\n"
     ]
    }
   ],
   "source": [
    "reviews['comments']=reviews['comments'].str.replace(r'\\n', ' ')\n",
    "reviews['comments']=reviews['comments'].str.replace('\\s+', ' ')\n",
    "reviews['comments']=reviews['comments'].str.replace('[^0-9a-zA-Z.,\\s]', ' ')\n",
    "reviews['reviewer_name']=reviews['reviewer_name'].str.replace(r'\\n', ' ')\n",
    "reviews['reviewer_name']=reviews['reviewer_name'].str.replace('\\s+', ' ')\n",
    "reviews['reviewer_name']=reviews['reviewer_name'].str.replace('[^0-9a-zA-Z.,\\s]', ' ')"
   ]
  },
  {
   "cell_type": "code",
   "execution_count": 38,
   "id": "593e6198",
   "metadata": {
    "scrolled": true
   },
   "outputs": [
    {
     "data": {
      "text/html": [
       "<div>\n",
       "<style scoped>\n",
       "    .dataframe tbody tr th:only-of-type {\n",
       "        vertical-align: middle;\n",
       "    }\n",
       "\n",
       "    .dataframe tbody tr th {\n",
       "        vertical-align: top;\n",
       "    }\n",
       "\n",
       "    .dataframe thead th {\n",
       "        text-align: right;\n",
       "    }\n",
       "</style>\n",
       "<table border=\"1\" class=\"dataframe\">\n",
       "  <thead>\n",
       "    <tr style=\"text-align: right;\">\n",
       "      <th></th>\n",
       "      <th>listing_id</th>\n",
       "      <th>date</th>\n",
       "      <th>reviewer_name</th>\n",
       "      <th>comments</th>\n",
       "    </tr>\n",
       "  </thead>\n",
       "  <tbody>\n",
       "    <tr>\n",
       "      <th>0</th>\n",
       "      <td>24635576</td>\n",
       "      <td>24-03-19</td>\n",
       "      <td>Source Yuan</td>\n",
       "      <td>This place is particularly good location, quie...</td>\n",
       "    </tr>\n",
       "    <tr>\n",
       "      <th>1</th>\n",
       "      <td>22512229</td>\n",
       "      <td>20-01-19</td>\n",
       "      <td>general</td>\n",
       "      <td>Very good value very clean and tidy will go next</td>\n",
       "    </tr>\n",
       "    <tr>\n",
       "      <th>2</th>\n",
       "      <td>20201819</td>\n",
       "      <td>04-04-19</td>\n",
       "      <td>Far condensate</td>\n",
       "      <td>The host canceled this reservation the day bef...</td>\n",
       "    </tr>\n",
       "    <tr>\n",
       "      <th>3</th>\n",
       "      <td>13901242</td>\n",
       "      <td>29-08-16</td>\n",
       "      <td>Sunningdale</td>\n",
       "      <td>Nice party place. Nice design. Dont hesitate t...</td>\n",
       "    </tr>\n",
       "    <tr>\n",
       "      <th>4</th>\n",
       "      <td>17898612</td>\n",
       "      <td>07-10-17</td>\n",
       "      <td>Yuka</td>\n",
       "      <td>Little sister is very nice, so easy going, is ...</td>\n",
       "    </tr>\n",
       "  </tbody>\n",
       "</table>\n",
       "</div>"
      ],
      "text/plain": [
       "   listing_id      date   reviewer_name  \\\n",
       "0    24635576  24-03-19     Source Yuan   \n",
       "1    22512229  20-01-19         general   \n",
       "2    20201819  04-04-19  Far condensate   \n",
       "3    13901242  29-08-16     Sunningdale   \n",
       "4    17898612  07-10-17            Yuka   \n",
       "\n",
       "                                            comments  \n",
       "0  This place is particularly good location, quie...  \n",
       "1   Very good value very clean and tidy will go next  \n",
       "2  The host canceled this reservation the day bef...  \n",
       "3  Nice party place. Nice design. Dont hesitate t...  \n",
       "4  Little sister is very nice, so easy going, is ...  "
      ]
     },
     "execution_count": 38,
     "metadata": {},
     "output_type": "execute_result"
    }
   ],
   "source": [
    "reviews.head(5)"
   ]
  },
  {
   "cell_type": "code",
   "execution_count": 48,
   "id": "ebc2c155",
   "metadata": {},
   "outputs": [
    {
     "data": {
      "text/plain": [
       "listing_id       0\n",
       "date             0\n",
       "reviewer_name    0\n",
       "comments         0\n",
       "dtype: int64"
      ]
     },
     "execution_count": 48,
     "metadata": {},
     "output_type": "execute_result"
    }
   ],
   "source": [
    "reviews.isna().sum()"
   ]
  },
  {
   "cell_type": "code",
   "execution_count": 39,
   "id": "f62a3f14",
   "metadata": {
    "scrolled": true
   },
   "outputs": [
    {
     "data": {
      "text/plain": [
       "(58381, 4)"
      ]
     },
     "execution_count": 39,
     "metadata": {},
     "output_type": "execute_result"
    }
   ],
   "source": [
    "reviews.shape"
   ]
  },
  {
   "cell_type": "code",
   "execution_count": 47,
   "id": "e6eda627",
   "metadata": {},
   "outputs": [],
   "source": [
    "reviews.to_csv('db_final/reviews.csv',index=False)"
   ]
  },
  {
   "cell_type": "markdown",
   "id": "2c7652b0",
   "metadata": {},
   "source": [
    "#### Pre-procesamiento calendar"
   ]
  },
  {
   "cell_type": "code",
   "execution_count": 51,
   "id": "fe815ef5",
   "metadata": {},
   "outputs": [
    {
     "data": {
      "text/html": [
       "<div>\n",
       "<style scoped>\n",
       "    .dataframe tbody tr th:only-of-type {\n",
       "        vertical-align: middle;\n",
       "    }\n",
       "\n",
       "    .dataframe tbody tr th {\n",
       "        vertical-align: top;\n",
       "    }\n",
       "\n",
       "    .dataframe thead th {\n",
       "        text-align: right;\n",
       "    }\n",
       "</style>\n",
       "<table border=\"1\" class=\"dataframe\">\n",
       "  <thead>\n",
       "    <tr style=\"text-align: right;\">\n",
       "      <th></th>\n",
       "      <th>listing_id</th>\n",
       "      <th>date</th>\n",
       "      <th>available</th>\n",
       "      <th>price</th>\n",
       "      <th>adjusted_price</th>\n",
       "      <th>minimum_nights</th>\n",
       "      <th>maximum_nights</th>\n",
       "    </tr>\n",
       "  </thead>\n",
       "  <tbody>\n",
       "    <tr>\n",
       "      <th>0</th>\n",
       "      <td>1165040</td>\n",
       "      <td>2019-04-17</td>\n",
       "      <td>f</td>\n",
       "      <td>$511.00</td>\n",
       "      <td>$511.00</td>\n",
       "      <td>1.0</td>\n",
       "      <td>1125.0</td>\n",
       "    </tr>\n",
       "    <tr>\n",
       "      <th>1</th>\n",
       "      <td>1165040</td>\n",
       "      <td>2019-04-18</td>\n",
       "      <td>t</td>\n",
       "      <td>$511.00</td>\n",
       "      <td>$511.00</td>\n",
       "      <td>1.0</td>\n",
       "      <td>1125.0</td>\n",
       "    </tr>\n",
       "    <tr>\n",
       "      <th>2</th>\n",
       "      <td>1165040</td>\n",
       "      <td>2019-04-19</td>\n",
       "      <td>t</td>\n",
       "      <td>$511.00</td>\n",
       "      <td>$511.00</td>\n",
       "      <td>1.0</td>\n",
       "      <td>1125.0</td>\n",
       "    </tr>\n",
       "    <tr>\n",
       "      <th>3</th>\n",
       "      <td>1165040</td>\n",
       "      <td>2019-04-20</td>\n",
       "      <td>t</td>\n",
       "      <td>$511.00</td>\n",
       "      <td>$511.00</td>\n",
       "      <td>1.0</td>\n",
       "      <td>1125.0</td>\n",
       "    </tr>\n",
       "    <tr>\n",
       "      <th>4</th>\n",
       "      <td>1165040</td>\n",
       "      <td>2019-04-21</td>\n",
       "      <td>t</td>\n",
       "      <td>$511.00</td>\n",
       "      <td>$511.00</td>\n",
       "      <td>1.0</td>\n",
       "      <td>1125.0</td>\n",
       "    </tr>\n",
       "  </tbody>\n",
       "</table>\n",
       "</div>"
      ],
      "text/plain": [
       "   listing_id        date available    price adjusted_price  minimum_nights  \\\n",
       "0     1165040  2019-04-17         f  $511.00        $511.00             1.0   \n",
       "1     1165040  2019-04-18         t  $511.00        $511.00             1.0   \n",
       "2     1165040  2019-04-19         t  $511.00        $511.00             1.0   \n",
       "3     1165040  2019-04-20         t  $511.00        $511.00             1.0   \n",
       "4     1165040  2019-04-21         t  $511.00        $511.00             1.0   \n",
       "\n",
       "   maximum_nights  \n",
       "0          1125.0  \n",
       "1          1125.0  \n",
       "2          1125.0  \n",
       "3          1125.0  \n",
       "4          1125.0  "
      ]
     },
     "execution_count": 51,
     "metadata": {},
     "output_type": "execute_result"
    }
   ],
   "source": [
    "calendar.head(5)"
   ]
  },
  {
   "cell_type": "code",
   "execution_count": 52,
   "id": "f0c0d4d2",
   "metadata": {},
   "outputs": [
    {
     "data": {
      "text/plain": [
       "28452"
      ]
     },
     "execution_count": 52,
     "metadata": {},
     "output_type": "execute_result"
    }
   ],
   "source": [
    "len(calendar.listing_id.unique())"
   ]
  },
  {
   "cell_type": "code",
   "execution_count": 54,
   "id": "2e42631e",
   "metadata": {},
   "outputs": [
    {
     "name": "stderr",
     "output_type": "stream",
     "text": [
      "<ipython-input-54-f72a22eee1d9>:3: FutureWarning: The default value of regex will change from True to False in a future version. In addition, single character regular expressions will*not* be treated as literal strings when regex=True.\n",
      "  sample_calendar['price']=sample_calendar['price'].str.replace(r'$', '')\n",
      "<ipython-input-54-f72a22eee1d9>:5: FutureWarning: The default value of regex will change from True to False in a future version. In addition, single character regular expressions will*not* be treated as literal strings when regex=True.\n",
      "  sample_calendar['adjusted_price']=sample_calendar['adjusted_price'].str.replace(r'$', '')\n"
     ]
    }
   ],
   "source": [
    "sample_calendar = calendar.groupby('listing_id', group_keys=False).apply(lambda x: x.sample(int(np.ceil(50000*len(x)/len(calendar))))).sample(frac=1).reset_index(drop=True)\n",
    "sample_calendar['price']=sample_calendar['price'].str.replace(r',', '')\n",
    "sample_calendar['price']=sample_calendar['price'].str.replace(r'$', '')\n",
    "sample_calendar['adjusted_price']=sample_calendar['adjusted_price'].str.replace(r',', '')\n",
    "sample_calendar['adjusted_price']=sample_calendar['adjusted_price'].str.replace(r'$', '')"
   ]
  },
  {
   "cell_type": "code",
   "execution_count": 55,
   "id": "3f296f8c",
   "metadata": {},
   "outputs": [
    {
     "data": {
      "text/plain": [
       "28452"
      ]
     },
     "execution_count": 55,
     "metadata": {},
     "output_type": "execute_result"
    }
   ],
   "source": [
    "len(sample_calendar.listing_id.unique())"
   ]
  },
  {
   "cell_type": "code",
   "execution_count": 56,
   "id": "0a9de06f",
   "metadata": {},
   "outputs": [],
   "source": [
    "sample_calendar.reset_index(drop=True, inplace=True)\n",
    "sample_calendar.dropna(inplace=True)"
   ]
  },
  {
   "cell_type": "code",
   "execution_count": 57,
   "id": "3a539613",
   "metadata": {},
   "outputs": [
    {
     "data": {
      "text/plain": [
       "(56902, 7)"
      ]
     },
     "execution_count": 57,
     "metadata": {},
     "output_type": "execute_result"
    }
   ],
   "source": [
    "sample_calendar.shape"
   ]
  },
  {
   "cell_type": "code",
   "execution_count": 58,
   "id": "d7b97152",
   "metadata": {},
   "outputs": [],
   "source": [
    "sample_calendar.to_csv('db_final/calendar.csv',index=False)"
   ]
  },
  {
   "cell_type": "code",
   "execution_count": null,
   "id": "d3b57c7a",
   "metadata": {},
   "outputs": [],
   "source": []
  }
 ],
 "metadata": {
  "kernelspec": {
   "display_name": "Python 3",
   "language": "python",
   "name": "python3"
  },
  "language_info": {
   "codemirror_mode": {
    "name": "ipython",
    "version": 3
   },
   "file_extension": ".py",
   "mimetype": "text/x-python",
   "name": "python",
   "nbconvert_exporter": "python",
   "pygments_lexer": "ipython3",
   "version": "3.9.1"
  }
 },
 "nbformat": 4,
 "nbformat_minor": 5
}
