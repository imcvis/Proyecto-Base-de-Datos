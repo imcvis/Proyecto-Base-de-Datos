{
 "cells": [
  {
   "cell_type": "code",
   "execution_count": 1,
   "id": "7f4f1422",
   "metadata": {},
   "outputs": [],
   "source": [
    "import pandas as pd\n",
    "import numpy as np"
   ]
  },
  {
   "cell_type": "markdown",
   "id": "42da192c",
   "metadata": {},
   "source": [
    "### Cargar datos"
   ]
  },
  {
   "cell_type": "code",
   "execution_count": 2,
   "id": "00816e91",
   "metadata": {},
   "outputs": [],
   "source": [
    "listings = pd.read_csv(\"Beijing Airbnb Data(clean)/listings_clean.csv\")"
   ]
  },
  {
   "cell_type": "code",
   "execution_count": 3,
   "id": "d115b2d3",
   "metadata": {},
   "outputs": [],
   "source": [
    "calendar = pd.read_csv(\"Beijing Airbnb Data(clean)/calendar_detail.csv\")"
   ]
  },
  {
   "cell_type": "code",
   "execution_count": 4,
   "id": "1a050c0a",
   "metadata": {},
   "outputs": [],
   "source": [
    "reviews = pd.read_csv(\"Beijing Airbnb Data(clean)/reviews_detail.csv\")"
   ]
  },
  {
   "cell_type": "code",
   "execution_count": 28,
   "id": "a2e243dc",
   "metadata": {
    "scrolled": true
   },
   "outputs": [
    {
     "name": "stdout",
     "output_type": "stream",
     "text": [
      "(28448, 10) (21425, 5) (10384980, 7)\n"
     ]
    }
   ],
   "source": [
    "print(listings.shape,reviews.shape,calendar.shape)"
   ]
  },
  {
   "cell_type": "markdown",
   "id": "50349d00",
   "metadata": {},
   "source": [
    "#### Pre-procesamiento listings"
   ]
  },
  {
   "cell_type": "code",
   "execution_count": 9,
   "id": "85641407",
   "metadata": {},
   "outputs": [],
   "source": [
    "listings['last_review']=listings['last_review'].replace(np.nan, 'No reviews', regex=True)\n",
    "listings=listings.drop(['neighbourhood','number_of_reviews','last_review','reviews_per_month',\n",
    "                        'calculated_host_listings_count'], axis=1)"
   ]
  },
  {
   "cell_type": "code",
   "execution_count": 10,
   "id": "15cfa67d",
   "metadata": {},
   "outputs": [
    {
     "data": {
      "text/plain": [
       "id                  0\n",
       "name                0\n",
       "host_id             0\n",
       "host_name           0\n",
       "latitude            0\n",
       "longitude           0\n",
       "room_type           0\n",
       "price               0\n",
       "minimum_nights      0\n",
       "availability_365    0\n",
       "dtype: int64"
      ]
     },
     "execution_count": 10,
     "metadata": {},
     "output_type": "execute_result"
    }
   ],
   "source": [
    "listings.isna().sum()"
   ]
  },
  {
   "cell_type": "code",
   "execution_count": 11,
   "id": "9a8eaf45",
   "metadata": {},
   "outputs": [],
   "source": [
    "listings.to_csv('listings_final.csv',index=False)"
   ]
  },
  {
   "cell_type": "code",
   "execution_count": 21,
   "id": "2fba418d",
   "metadata": {
    "scrolled": true
   },
   "outputs": [
    {
     "data": {
      "text/plain": [
       "<PandasArray>\n",
       "[   44054,   100213,   128496,   161902,   162144,   279078,   282825,\n",
       "   287026,   287511,   314453,\n",
       " ...\n",
       " 33947515, 33947519, 33947559, 33948143, 33948296, 33948728, 33948787,\n",
       " 33950006, 33950535, 33954414]\n",
       "Length: 28448, dtype: int64"
      ]
     },
     "execution_count": 21,
     "metadata": {},
     "output_type": "execute_result"
    }
   ],
   "source": [
    "listings.id.array"
   ]
  },
  {
   "cell_type": "markdown",
   "id": "b8822367",
   "metadata": {},
   "source": [
    "#### Pre-procesamiento reviews"
   ]
  },
  {
   "cell_type": "code",
   "execution_count": 6,
   "id": "967cddb6",
   "metadata": {},
   "outputs": [],
   "source": [
    "reviews=reviews[reviews.comments.str.contains(r'[^\\x00-\\x7F]+')== False]\n",
    "reviews=reviews[reviews.reviewer_name.str.contains(r'[^\\x00-\\x7F]+')== False]\n",
    "reviews=reviews.drop('reviewer_id', axis=1)"
   ]
  },
  {
   "cell_type": "code",
   "execution_count": 25,
   "id": "dac776e7",
   "metadata": {},
   "outputs": [],
   "source": [
    "for x in reviews.listing_id.array:\n",
    "    if x not in listings.id.array:\n",
    "        reviews.drop(reviews.loc[reviews['listing_id']==x].index, inplace=True)"
   ]
  },
  {
   "cell_type": "code",
   "execution_count": 26,
   "id": "a38a04e8",
   "metadata": {},
   "outputs": [
    {
     "data": {
      "text/html": [
       "<div>\n",
       "<style scoped>\n",
       "    .dataframe tbody tr th:only-of-type {\n",
       "        vertical-align: middle;\n",
       "    }\n",
       "\n",
       "    .dataframe tbody tr th {\n",
       "        vertical-align: top;\n",
       "    }\n",
       "\n",
       "    .dataframe thead th {\n",
       "        text-align: right;\n",
       "    }\n",
       "</style>\n",
       "<table border=\"1\" class=\"dataframe\">\n",
       "  <thead>\n",
       "    <tr style=\"text-align: right;\">\n",
       "      <th></th>\n",
       "      <th>listing_id</th>\n",
       "      <th>id</th>\n",
       "      <th>date</th>\n",
       "      <th>reviewer_name</th>\n",
       "      <th>comments</th>\n",
       "    </tr>\n",
       "  </thead>\n",
       "  <tbody>\n",
       "    <tr>\n",
       "      <th>0</th>\n",
       "      <td>44054</td>\n",
       "      <td>84748</td>\n",
       "      <td>2010-08-25</td>\n",
       "      <td>Jarrod</td>\n",
       "      <td>Sev was very helpful.  Sev showed us where to ...</td>\n",
       "    </tr>\n",
       "    <tr>\n",
       "      <th>1</th>\n",
       "      <td>44054</td>\n",
       "      <td>118384</td>\n",
       "      <td>2010-10-13</td>\n",
       "      <td>Kimberly</td>\n",
       "      <td>We arrived in Beijing very early in the mornin...</td>\n",
       "    </tr>\n",
       "    <tr>\n",
       "      <th>2</th>\n",
       "      <td>44054</td>\n",
       "      <td>436978</td>\n",
       "      <td>2011-08-11</td>\n",
       "      <td>Emma</td>\n",
       "      <td>It is a really massive apartment and really co...</td>\n",
       "    </tr>\n",
       "    <tr>\n",
       "      <th>3</th>\n",
       "      <td>44054</td>\n",
       "      <td>1118657</td>\n",
       "      <td>2012-04-12</td>\n",
       "      <td>Andreyna</td>\n",
       "      <td>Sev was incredibly helpful, showed us around t...</td>\n",
       "    </tr>\n",
       "    <tr>\n",
       "      <th>4</th>\n",
       "      <td>44054</td>\n",
       "      <td>2140650</td>\n",
       "      <td>2012-08-30</td>\n",
       "      <td>Frances</td>\n",
       "      <td>The appartment was ideal for our party of 6 ad...</td>\n",
       "    </tr>\n",
       "    <tr>\n",
       "      <th>...</th>\n",
       "      <td>...</td>\n",
       "      <td>...</td>\n",
       "      <td>...</td>\n",
       "      <td>...</td>\n",
       "      <td>...</td>\n",
       "    </tr>\n",
       "    <tr>\n",
       "      <th>201976</th>\n",
       "      <td>33687740</td>\n",
       "      <td>436829448</td>\n",
       "      <td>2019-04-14</td>\n",
       "      <td>Chris &amp; Loretta</td>\n",
       "      <td>Responds to questions were quickly answered, g...</td>\n",
       "    </tr>\n",
       "    <tr>\n",
       "      <th>201995</th>\n",
       "      <td>33703447</td>\n",
       "      <td>437685367</td>\n",
       "      <td>2019-04-15</td>\n",
       "      <td>Wei</td>\n",
       "      <td>The host canceled this reservation the day bef...</td>\n",
       "    </tr>\n",
       "    <tr>\n",
       "      <th>202019</th>\n",
       "      <td>33756022</td>\n",
       "      <td>438645023</td>\n",
       "      <td>2019-04-17</td>\n",
       "      <td>Ying</td>\n",
       "      <td>The host canceled this reservation 12 days bef...</td>\n",
       "    </tr>\n",
       "    <tr>\n",
       "      <th>202023</th>\n",
       "      <td>33757621</td>\n",
       "      <td>436102028</td>\n",
       "      <td>2019-04-12</td>\n",
       "      <td>Ervinas</td>\n",
       "      <td>The host canceled this reservation the day bef...</td>\n",
       "    </tr>\n",
       "    <tr>\n",
       "      <th>202086</th>\n",
       "      <td>33859089</td>\n",
       "      <td>438515344</td>\n",
       "      <td>2019-04-17</td>\n",
       "      <td>Shuyi</td>\n",
       "      <td>I like the apartment.\\nApartment?\\nI like the ...</td>\n",
       "    </tr>\n",
       "  </tbody>\n",
       "</table>\n",
       "<p>21425 rows × 5 columns</p>\n",
       "</div>"
      ],
      "text/plain": [
       "        listing_id         id        date    reviewer_name  \\\n",
       "0            44054      84748  2010-08-25           Jarrod   \n",
       "1            44054     118384  2010-10-13         Kimberly   \n",
       "2            44054     436978  2011-08-11             Emma   \n",
       "3            44054    1118657  2012-04-12         Andreyna   \n",
       "4            44054    2140650  2012-08-30          Frances   \n",
       "...            ...        ...         ...              ...   \n",
       "201976    33687740  436829448  2019-04-14  Chris & Loretta   \n",
       "201995    33703447  437685367  2019-04-15              Wei   \n",
       "202019    33756022  438645023  2019-04-17             Ying   \n",
       "202023    33757621  436102028  2019-04-12          Ervinas   \n",
       "202086    33859089  438515344  2019-04-17            Shuyi   \n",
       "\n",
       "                                                 comments  \n",
       "0       Sev was very helpful.  Sev showed us where to ...  \n",
       "1       We arrived in Beijing very early in the mornin...  \n",
       "2       It is a really massive apartment and really co...  \n",
       "3       Sev was incredibly helpful, showed us around t...  \n",
       "4       The appartment was ideal for our party of 6 ad...  \n",
       "...                                                   ...  \n",
       "201976  Responds to questions were quickly answered, g...  \n",
       "201995  The host canceled this reservation the day bef...  \n",
       "202019  The host canceled this reservation 12 days bef...  \n",
       "202023  The host canceled this reservation the day bef...  \n",
       "202086  I like the apartment.\\nApartment?\\nI like the ...  \n",
       "\n",
       "[21425 rows x 5 columns]"
      ]
     },
     "execution_count": 26,
     "metadata": {},
     "output_type": "execute_result"
    }
   ],
   "source": [
    "reviews"
   ]
  },
  {
   "cell_type": "code",
   "execution_count": 27,
   "id": "74504066",
   "metadata": {},
   "outputs": [],
   "source": [
    "reviews.to_csv('reviews_final.csv',index=False)"
   ]
  },
  {
   "cell_type": "markdown",
   "id": "2c7652b0",
   "metadata": {},
   "source": [
    "#### Pre-procesamiento calendar"
   ]
  },
  {
   "cell_type": "code",
   "execution_count": 12,
   "id": "2e42631e",
   "metadata": {},
   "outputs": [
    {
     "name": "stderr",
     "output_type": "stream",
     "text": [
      "/home/cris/miniconda3/envs/PLN/lib/python3.7/site-packages/ipykernel_launcher.py:3: FutureWarning: The default value of regex will change from True to False in a future version. In addition, single character regular expressions will*not* be treated as literal strings when regex=True.\n",
      "  This is separate from the ipykernel package so we can avoid doing imports until\n",
      "/home/cris/miniconda3/envs/PLN/lib/python3.7/site-packages/ipykernel_launcher.py:5: FutureWarning: The default value of regex will change from True to False in a future version. In addition, single character regular expressions will*not* be treated as literal strings when regex=True.\n",
      "  \"\"\"\n"
     ]
    }
   ],
   "source": [
    "sample_calendar = calendar.groupby('listing_id').apply(lambda x: x.sample(frac=0.005))\n",
    "sample_calendar['price']=sample_calendar['price'].str.replace(r',', '')\n",
    "sample_calendar['price']=sample_calendar['price'].str.replace(r'$', '')\n",
    "sample_calendar['adjusted_price']=sample_calendar['adjusted_price'].str.replace(r',', '')\n",
    "sample_calendar['adjusted_price']=sample_calendar['adjusted_price'].str.replace(r'$', '')"
   ]
  },
  {
   "cell_type": "code",
   "execution_count": 13,
   "id": "0a9de06f",
   "metadata": {},
   "outputs": [],
   "source": [
    "sample_calendar.reset_index(drop=True, inplace=True)\n",
    "sample_calendar.dropna(inplace=True)"
   ]
  },
  {
   "cell_type": "code",
   "execution_count": 14,
   "id": "58534119",
   "metadata": {
    "scrolled": false
   },
   "outputs": [
    {
     "data": {
      "text/html": [
       "<div>\n",
       "<style scoped>\n",
       "    .dataframe tbody tr th:only-of-type {\n",
       "        vertical-align: middle;\n",
       "    }\n",
       "\n",
       "    .dataframe tbody tr th {\n",
       "        vertical-align: top;\n",
       "    }\n",
       "\n",
       "    .dataframe thead th {\n",
       "        text-align: right;\n",
       "    }\n",
       "</style>\n",
       "<table border=\"1\" class=\"dataframe\">\n",
       "  <thead>\n",
       "    <tr style=\"text-align: right;\">\n",
       "      <th></th>\n",
       "      <th>listing_id</th>\n",
       "      <th>date</th>\n",
       "      <th>available</th>\n",
       "      <th>price</th>\n",
       "      <th>adjusted_price</th>\n",
       "      <th>minimum_nights</th>\n",
       "      <th>maximum_nights</th>\n",
       "    </tr>\n",
       "  </thead>\n",
       "  <tbody>\n",
       "    <tr>\n",
       "      <th>0</th>\n",
       "      <td>44054</td>\n",
       "      <td>2019-05-23</td>\n",
       "      <td>f</td>\n",
       "      <td>792.00</td>\n",
       "      <td>792.00</td>\n",
       "      <td>1.0</td>\n",
       "      <td>365.0</td>\n",
       "    </tr>\n",
       "    <tr>\n",
       "      <th>1</th>\n",
       "      <td>44054</td>\n",
       "      <td>2019-05-31</td>\n",
       "      <td>f</td>\n",
       "      <td>792.00</td>\n",
       "      <td>792.00</td>\n",
       "      <td>1.0</td>\n",
       "      <td>365.0</td>\n",
       "    </tr>\n",
       "    <tr>\n",
       "      <th>2</th>\n",
       "      <td>100213</td>\n",
       "      <td>2019-09-20</td>\n",
       "      <td>f</td>\n",
       "      <td>1320.00</td>\n",
       "      <td>1320.00</td>\n",
       "      <td>1.0</td>\n",
       "      <td>30.0</td>\n",
       "    </tr>\n",
       "    <tr>\n",
       "      <th>3</th>\n",
       "      <td>100213</td>\n",
       "      <td>2020-04-12</td>\n",
       "      <td>f</td>\n",
       "      <td>1200.00</td>\n",
       "      <td>1200.00</td>\n",
       "      <td>1.0</td>\n",
       "      <td>30.0</td>\n",
       "    </tr>\n",
       "    <tr>\n",
       "      <th>4</th>\n",
       "      <td>128496</td>\n",
       "      <td>2019-12-20</td>\n",
       "      <td>f</td>\n",
       "      <td>389.00</td>\n",
       "      <td>389.00</td>\n",
       "      <td>3.0</td>\n",
       "      <td>365.0</td>\n",
       "    </tr>\n",
       "    <tr>\n",
       "      <th>...</th>\n",
       "      <td>...</td>\n",
       "      <td>...</td>\n",
       "      <td>...</td>\n",
       "      <td>...</td>\n",
       "      <td>...</td>\n",
       "      <td>...</td>\n",
       "      <td>...</td>\n",
       "    </tr>\n",
       "    <tr>\n",
       "      <th>95</th>\n",
       "      <td>1303170</td>\n",
       "      <td>2020-03-29</td>\n",
       "      <td>t</td>\n",
       "      <td>1155.00</td>\n",
       "      <td>1155.00</td>\n",
       "      <td>1.0</td>\n",
       "      <td>60.0</td>\n",
       "    </tr>\n",
       "    <tr>\n",
       "      <th>96</th>\n",
       "      <td>1325945</td>\n",
       "      <td>2019-10-22</td>\n",
       "      <td>t</td>\n",
       "      <td>298.00</td>\n",
       "      <td>298.00</td>\n",
       "      <td>2.0</td>\n",
       "      <td>1125.0</td>\n",
       "    </tr>\n",
       "    <tr>\n",
       "      <th>97</th>\n",
       "      <td>1325945</td>\n",
       "      <td>2020-03-14</td>\n",
       "      <td>t</td>\n",
       "      <td>298.00</td>\n",
       "      <td>298.00</td>\n",
       "      <td>2.0</td>\n",
       "      <td>1125.0</td>\n",
       "    </tr>\n",
       "    <tr>\n",
       "      <th>98</th>\n",
       "      <td>1370541</td>\n",
       "      <td>2020-03-12</td>\n",
       "      <td>f</td>\n",
       "      <td>75.00</td>\n",
       "      <td>75.00</td>\n",
       "      <td>3.0</td>\n",
       "      <td>30.0</td>\n",
       "    </tr>\n",
       "    <tr>\n",
       "      <th>99</th>\n",
       "      <td>1370541</td>\n",
       "      <td>2020-03-02</td>\n",
       "      <td>f</td>\n",
       "      <td>75.00</td>\n",
       "      <td>75.00</td>\n",
       "      <td>3.0</td>\n",
       "      <td>30.0</td>\n",
       "    </tr>\n",
       "  </tbody>\n",
       "</table>\n",
       "<p>100 rows × 7 columns</p>\n",
       "</div>"
      ],
      "text/plain": [
       "    listing_id        date available    price adjusted_price  minimum_nights  \\\n",
       "0        44054  2019-05-23         f   792.00         792.00             1.0   \n",
       "1        44054  2019-05-31         f   792.00         792.00             1.0   \n",
       "2       100213  2019-09-20         f  1320.00        1320.00             1.0   \n",
       "3       100213  2020-04-12         f  1200.00        1200.00             1.0   \n",
       "4       128496  2019-12-20         f   389.00         389.00             3.0   \n",
       "..         ...         ...       ...      ...            ...             ...   \n",
       "95     1303170  2020-03-29         t  1155.00        1155.00             1.0   \n",
       "96     1325945  2019-10-22         t   298.00         298.00             2.0   \n",
       "97     1325945  2020-03-14         t   298.00         298.00             2.0   \n",
       "98     1370541  2020-03-12         f    75.00          75.00             3.0   \n",
       "99     1370541  2020-03-02         f    75.00          75.00             3.0   \n",
       "\n",
       "    maximum_nights  \n",
       "0            365.0  \n",
       "1            365.0  \n",
       "2             30.0  \n",
       "3             30.0  \n",
       "4            365.0  \n",
       "..             ...  \n",
       "95            60.0  \n",
       "96          1125.0  \n",
       "97          1125.0  \n",
       "98            30.0  \n",
       "99            30.0  \n",
       "\n",
       "[100 rows x 7 columns]"
      ]
     },
     "execution_count": 14,
     "metadata": {},
     "output_type": "execute_result"
    }
   ],
   "source": [
    "sample_calendar.head(100)"
   ]
  },
  {
   "cell_type": "code",
   "execution_count": 15,
   "id": "0293c8f7",
   "metadata": {},
   "outputs": [
    {
     "data": {
      "text/html": [
       "<div>\n",
       "<style scoped>\n",
       "    .dataframe tbody tr th:only-of-type {\n",
       "        vertical-align: middle;\n",
       "    }\n",
       "\n",
       "    .dataframe tbody tr th {\n",
       "        vertical-align: top;\n",
       "    }\n",
       "\n",
       "    .dataframe thead th {\n",
       "        text-align: right;\n",
       "    }\n",
       "</style>\n",
       "<table border=\"1\" class=\"dataframe\">\n",
       "  <thead>\n",
       "    <tr style=\"text-align: right;\">\n",
       "      <th></th>\n",
       "      <th>listing_id</th>\n",
       "      <th>date</th>\n",
       "      <th>available</th>\n",
       "      <th>price</th>\n",
       "      <th>adjusted_price</th>\n",
       "      <th>minimum_nights</th>\n",
       "      <th>maximum_nights</th>\n",
       "    </tr>\n",
       "  </thead>\n",
       "  <tbody>\n",
       "    <tr>\n",
       "      <th>0</th>\n",
       "      <td>44054</td>\n",
       "      <td>2019-05-23</td>\n",
       "      <td>f</td>\n",
       "      <td>792.00</td>\n",
       "      <td>792.00</td>\n",
       "      <td>1.0</td>\n",
       "      <td>365.0</td>\n",
       "    </tr>\n",
       "    <tr>\n",
       "      <th>1</th>\n",
       "      <td>44054</td>\n",
       "      <td>2019-05-31</td>\n",
       "      <td>f</td>\n",
       "      <td>792.00</td>\n",
       "      <td>792.00</td>\n",
       "      <td>1.0</td>\n",
       "      <td>365.0</td>\n",
       "    </tr>\n",
       "    <tr>\n",
       "      <th>2</th>\n",
       "      <td>100213</td>\n",
       "      <td>2019-09-20</td>\n",
       "      <td>f</td>\n",
       "      <td>1320.00</td>\n",
       "      <td>1320.00</td>\n",
       "      <td>1.0</td>\n",
       "      <td>30.0</td>\n",
       "    </tr>\n",
       "    <tr>\n",
       "      <th>3</th>\n",
       "      <td>100213</td>\n",
       "      <td>2020-04-12</td>\n",
       "      <td>f</td>\n",
       "      <td>1200.00</td>\n",
       "      <td>1200.00</td>\n",
       "      <td>1.0</td>\n",
       "      <td>30.0</td>\n",
       "    </tr>\n",
       "    <tr>\n",
       "      <th>4</th>\n",
       "      <td>128496</td>\n",
       "      <td>2019-12-20</td>\n",
       "      <td>f</td>\n",
       "      <td>389.00</td>\n",
       "      <td>389.00</td>\n",
       "      <td>3.0</td>\n",
       "      <td>365.0</td>\n",
       "    </tr>\n",
       "    <tr>\n",
       "      <th>...</th>\n",
       "      <td>...</td>\n",
       "      <td>...</td>\n",
       "      <td>...</td>\n",
       "      <td>...</td>\n",
       "      <td>...</td>\n",
       "      <td>...</td>\n",
       "      <td>...</td>\n",
       "    </tr>\n",
       "    <tr>\n",
       "      <th>95</th>\n",
       "      <td>1303170</td>\n",
       "      <td>2020-03-29</td>\n",
       "      <td>t</td>\n",
       "      <td>1155.00</td>\n",
       "      <td>1155.00</td>\n",
       "      <td>1.0</td>\n",
       "      <td>60.0</td>\n",
       "    </tr>\n",
       "    <tr>\n",
       "      <th>96</th>\n",
       "      <td>1325945</td>\n",
       "      <td>2019-10-22</td>\n",
       "      <td>t</td>\n",
       "      <td>298.00</td>\n",
       "      <td>298.00</td>\n",
       "      <td>2.0</td>\n",
       "      <td>1125.0</td>\n",
       "    </tr>\n",
       "    <tr>\n",
       "      <th>97</th>\n",
       "      <td>1325945</td>\n",
       "      <td>2020-03-14</td>\n",
       "      <td>t</td>\n",
       "      <td>298.00</td>\n",
       "      <td>298.00</td>\n",
       "      <td>2.0</td>\n",
       "      <td>1125.0</td>\n",
       "    </tr>\n",
       "    <tr>\n",
       "      <th>98</th>\n",
       "      <td>1370541</td>\n",
       "      <td>2020-03-12</td>\n",
       "      <td>f</td>\n",
       "      <td>75.00</td>\n",
       "      <td>75.00</td>\n",
       "      <td>3.0</td>\n",
       "      <td>30.0</td>\n",
       "    </tr>\n",
       "    <tr>\n",
       "      <th>99</th>\n",
       "      <td>1370541</td>\n",
       "      <td>2020-03-02</td>\n",
       "      <td>f</td>\n",
       "      <td>75.00</td>\n",
       "      <td>75.00</td>\n",
       "      <td>3.0</td>\n",
       "      <td>30.0</td>\n",
       "    </tr>\n",
       "  </tbody>\n",
       "</table>\n",
       "<p>100 rows × 7 columns</p>\n",
       "</div>"
      ],
      "text/plain": [
       "    listing_id        date available    price adjusted_price  minimum_nights  \\\n",
       "0        44054  2019-05-23         f   792.00         792.00             1.0   \n",
       "1        44054  2019-05-31         f   792.00         792.00             1.0   \n",
       "2       100213  2019-09-20         f  1320.00        1320.00             1.0   \n",
       "3       100213  2020-04-12         f  1200.00        1200.00             1.0   \n",
       "4       128496  2019-12-20         f   389.00         389.00             3.0   \n",
       "..         ...         ...       ...      ...            ...             ...   \n",
       "95     1303170  2020-03-29         t  1155.00        1155.00             1.0   \n",
       "96     1325945  2019-10-22         t   298.00         298.00             2.0   \n",
       "97     1325945  2020-03-14         t   298.00         298.00             2.0   \n",
       "98     1370541  2020-03-12         f    75.00          75.00             3.0   \n",
       "99     1370541  2020-03-02         f    75.00          75.00             3.0   \n",
       "\n",
       "    maximum_nights  \n",
       "0            365.0  \n",
       "1            365.0  \n",
       "2             30.0  \n",
       "3             30.0  \n",
       "4            365.0  \n",
       "..             ...  \n",
       "95            60.0  \n",
       "96          1125.0  \n",
       "97          1125.0  \n",
       "98            30.0  \n",
       "99            30.0  \n",
       "\n",
       "[100 rows x 7 columns]"
      ]
     },
     "execution_count": 15,
     "metadata": {},
     "output_type": "execute_result"
    }
   ],
   "source": [
    "sample_calendar.head(100)"
   ]
  },
  {
   "cell_type": "code",
   "execution_count": 16,
   "id": "3a539613",
   "metadata": {},
   "outputs": [
    {
     "data": {
      "text/plain": [
       "listing_id        0\n",
       "date              0\n",
       "available         0\n",
       "price             0\n",
       "adjusted_price    0\n",
       "minimum_nights    0\n",
       "maximum_nights    0\n",
       "dtype: int64"
      ]
     },
     "execution_count": 16,
     "metadata": {},
     "output_type": "execute_result"
    }
   ],
   "source": [
    "sample_calendar.isna().sum()"
   ]
  },
  {
   "cell_type": "code",
   "execution_count": 17,
   "id": "d7b97152",
   "metadata": {},
   "outputs": [],
   "source": [
    "sample_calendar.to_csv('calendar_final.csv',index=False)"
   ]
  },
  {
   "cell_type": "code",
   "execution_count": null,
   "id": "d3b57c7a",
   "metadata": {},
   "outputs": [],
   "source": []
  }
 ],
 "metadata": {
  "kernelspec": {
   "display_name": "Python 3",
   "language": "python",
   "name": "python3"
  },
  "language_info": {
   "codemirror_mode": {
    "name": "ipython",
    "version": 3
   },
   "file_extension": ".py",
   "mimetype": "text/x-python",
   "name": "python",
   "nbconvert_exporter": "python",
   "pygments_lexer": "ipython3",
   "version": "3.7.10"
  }
 },
 "nbformat": 4,
 "nbformat_minor": 5
}
