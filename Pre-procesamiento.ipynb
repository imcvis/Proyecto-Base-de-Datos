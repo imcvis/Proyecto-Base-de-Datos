{
 "cells": [
  {
   "cell_type": "code",
   "execution_count": 1,
   "id": "7f4f1422",
   "metadata": {},
   "outputs": [],
   "source": [
    "import pandas as pd\n",
    "import numpy as np"
   ]
  },
  {
   "cell_type": "code",
   "execution_count": 2,
   "id": "00816e91",
   "metadata": {},
   "outputs": [],
   "source": [
    "listings = pd.read_csv(\"Beijing Airbnb Data(clean)/listings_clean.csv\")"
   ]
  },
  {
   "cell_type": "code",
   "execution_count": 3,
   "id": "d115b2d3",
   "metadata": {},
   "outputs": [],
   "source": [
    "calendar = pd.read_csv(\"Beijing Airbnb Data(clean)/calendar_detail.csv\")"
   ]
  },
  {
   "cell_type": "code",
   "execution_count": 4,
   "id": "1a050c0a",
   "metadata": {},
   "outputs": [],
   "source": [
    "reviews = pd.read_csv(\"Beijing Airbnb Data(clean)/reviews_detail.csv\")"
   ]
  },
  {
   "cell_type": "code",
   "execution_count": 5,
   "id": "a2e243dc",
   "metadata": {},
   "outputs": [
    {
     "name": "stdout",
     "output_type": "stream",
     "text": [
      "(28448, 15) (202099, 6) (10384980, 7)\n"
     ]
    }
   ],
   "source": [
    "print(listings.shape,reviews.shape,calendar.shape)"
   ]
  },
  {
   "cell_type": "code",
   "execution_count": 17,
   "id": "967cddb6",
   "metadata": {},
   "outputs": [],
   "source": [
    "reviews=reviews[reviews.comments.str.contains(r'[^\\x00-\\x7F]+')== False]\n",
    "reviews=reviews[reviews.reviewer_name.str.contains(r'[^\\x00-\\x7F]+')== False]\n",
    "reviews=reviews.drop('reviewer_id', axis=1)"
   ]
  },
  {
   "cell_type": "code",
   "execution_count": 27,
   "id": "d812a2ad",
   "metadata": {
    "scrolled": false
   },
   "outputs": [
    {
     "data": {
      "text/plain": [
       "listing_id       0\n",
       "id               0\n",
       "date             0\n",
       "reviewer_name    0\n",
       "comments         0\n",
       "dtype: int64"
      ]
     },
     "execution_count": 27,
     "metadata": {},
     "output_type": "execute_result"
    }
   ],
   "source": [
    "reviews"
   ]
  },
  {
   "cell_type": "code",
   "execution_count": 37,
   "id": "63d5a68d",
   "metadata": {},
   "outputs": [],
   "source": [
    "reviews.to_csv('reviews_final.csv',index=False)"
   ]
  },
  {
   "cell_type": "code",
   "execution_count": 20,
   "id": "85641407",
   "metadata": {},
   "outputs": [],
   "source": [
    "listings['last_review']=listings['last_review'].replace(np.nan, 'No reviews', regex=True)\n",
    "listings=listings.drop(['neighbourhood','number_of_reviews','last_review','reviews_per_month',\n",
    "                        'calculated_host_listings_count'], axis=1)"
   ]
  },
  {
   "cell_type": "code",
   "execution_count": 28,
   "id": "15cfa67d",
   "metadata": {},
   "outputs": [
    {
     "data": {
      "text/plain": [
       "id                  0\n",
       "name                0\n",
       "host_id             0\n",
       "host_name           0\n",
       "latitude            0\n",
       "longitude           0\n",
       "room_type           0\n",
       "price               0\n",
       "minimum_nights      0\n",
       "availability_365    0\n",
       "dtype: int64"
      ]
     },
     "execution_count": 28,
     "metadata": {},
     "output_type": "execute_result"
    }
   ],
   "source": [
    "listings.isna().sum()"
   ]
  },
  {
   "cell_type": "code",
   "execution_count": 36,
   "id": "9a8eaf45",
   "metadata": {},
   "outputs": [],
   "source": [
    "listings.to_csv('listings_final.csv',index=False)"
   ]
  },
  {
   "cell_type": "code",
   "execution_count": 22,
   "id": "2e42631e",
   "metadata": {},
   "outputs": [],
   "source": [
    "sample_calendar = calendar.groupby('listing_id').apply(lambda x: x.sample(frac=0.005))"
   ]
  },
  {
   "cell_type": "code",
   "execution_count": 30,
   "id": "0a9de06f",
   "metadata": {},
   "outputs": [],
   "source": [
    "sample_calendar.reset_index(drop=True, inplace=True)\n",
    "sample_calendar.dropna(inplace=True)"
   ]
  },
  {
   "cell_type": "code",
   "execution_count": 31,
   "id": "58534119",
   "metadata": {},
   "outputs": [
    {
     "data": {
      "text/html": [
       "<div>\n",
       "<style scoped>\n",
       "    .dataframe tbody tr th:only-of-type {\n",
       "        vertical-align: middle;\n",
       "    }\n",
       "\n",
       "    .dataframe tbody tr th {\n",
       "        vertical-align: top;\n",
       "    }\n",
       "\n",
       "    .dataframe thead th {\n",
       "        text-align: right;\n",
       "    }\n",
       "</style>\n",
       "<table border=\"1\" class=\"dataframe\">\n",
       "  <thead>\n",
       "    <tr style=\"text-align: right;\">\n",
       "      <th></th>\n",
       "      <th>listing_id</th>\n",
       "      <th>date</th>\n",
       "      <th>available</th>\n",
       "      <th>price</th>\n",
       "      <th>adjusted_price</th>\n",
       "      <th>minimum_nights</th>\n",
       "      <th>maximum_nights</th>\n",
       "    </tr>\n",
       "  </thead>\n",
       "  <tbody>\n",
       "    <tr>\n",
       "      <th>0</th>\n",
       "      <td>44054</td>\n",
       "      <td>2020-01-13</td>\n",
       "      <td>t</td>\n",
       "      <td>$839.00</td>\n",
       "      <td>$839.00</td>\n",
       "      <td>1.0</td>\n",
       "      <td>365.0</td>\n",
       "    </tr>\n",
       "    <tr>\n",
       "      <th>1</th>\n",
       "      <td>44054</td>\n",
       "      <td>2019-12-15</td>\n",
       "      <td>t</td>\n",
       "      <td>$839.00</td>\n",
       "      <td>$839.00</td>\n",
       "      <td>1.0</td>\n",
       "      <td>365.0</td>\n",
       "    </tr>\n",
       "    <tr>\n",
       "      <th>2</th>\n",
       "      <td>100213</td>\n",
       "      <td>2019-10-24</td>\n",
       "      <td>f</td>\n",
       "      <td>$1,200.00</td>\n",
       "      <td>$1,200.00</td>\n",
       "      <td>1.0</td>\n",
       "      <td>30.0</td>\n",
       "    </tr>\n",
       "    <tr>\n",
       "      <th>3</th>\n",
       "      <td>100213</td>\n",
       "      <td>2019-11-30</td>\n",
       "      <td>f</td>\n",
       "      <td>$1,320.00</td>\n",
       "      <td>$1,320.00</td>\n",
       "      <td>1.0</td>\n",
       "      <td>30.0</td>\n",
       "    </tr>\n",
       "    <tr>\n",
       "      <th>4</th>\n",
       "      <td>128496</td>\n",
       "      <td>2020-01-29</td>\n",
       "      <td>f</td>\n",
       "      <td>$389.00</td>\n",
       "      <td>$389.00</td>\n",
       "      <td>3.0</td>\n",
       "      <td>365.0</td>\n",
       "    </tr>\n",
       "    <tr>\n",
       "      <th>...</th>\n",
       "      <td>...</td>\n",
       "      <td>...</td>\n",
       "      <td>...</td>\n",
       "      <td>...</td>\n",
       "      <td>...</td>\n",
       "      <td>...</td>\n",
       "      <td>...</td>\n",
       "    </tr>\n",
       "    <tr>\n",
       "      <th>95</th>\n",
       "      <td>1303170</td>\n",
       "      <td>2020-02-11</td>\n",
       "      <td>t</td>\n",
       "      <td>$1,155.00</td>\n",
       "      <td>$1,155.00</td>\n",
       "      <td>1.0</td>\n",
       "      <td>60.0</td>\n",
       "    </tr>\n",
       "    <tr>\n",
       "      <th>96</th>\n",
       "      <td>1325945</td>\n",
       "      <td>2020-04-11</td>\n",
       "      <td>t</td>\n",
       "      <td>$298.00</td>\n",
       "      <td>$298.00</td>\n",
       "      <td>2.0</td>\n",
       "      <td>1125.0</td>\n",
       "    </tr>\n",
       "    <tr>\n",
       "      <th>97</th>\n",
       "      <td>1325945</td>\n",
       "      <td>2019-11-12</td>\n",
       "      <td>t</td>\n",
       "      <td>$298.00</td>\n",
       "      <td>$298.00</td>\n",
       "      <td>2.0</td>\n",
       "      <td>1125.0</td>\n",
       "    </tr>\n",
       "    <tr>\n",
       "      <th>98</th>\n",
       "      <td>1370541</td>\n",
       "      <td>2019-10-03</td>\n",
       "      <td>f</td>\n",
       "      <td>$75.00</td>\n",
       "      <td>$75.00</td>\n",
       "      <td>3.0</td>\n",
       "      <td>30.0</td>\n",
       "    </tr>\n",
       "    <tr>\n",
       "      <th>99</th>\n",
       "      <td>1370541</td>\n",
       "      <td>2019-10-09</td>\n",
       "      <td>f</td>\n",
       "      <td>$75.00</td>\n",
       "      <td>$75.00</td>\n",
       "      <td>3.0</td>\n",
       "      <td>30.0</td>\n",
       "    </tr>\n",
       "  </tbody>\n",
       "</table>\n",
       "<p>100 rows × 7 columns</p>\n",
       "</div>"
      ],
      "text/plain": [
       "    listing_id        date available      price adjusted_price  \\\n",
       "0        44054  2020-01-13         t    $839.00        $839.00   \n",
       "1        44054  2019-12-15         t    $839.00        $839.00   \n",
       "2       100213  2019-10-24         f  $1,200.00      $1,200.00   \n",
       "3       100213  2019-11-30         f  $1,320.00      $1,320.00   \n",
       "4       128496  2020-01-29         f    $389.00        $389.00   \n",
       "..         ...         ...       ...        ...            ...   \n",
       "95     1303170  2020-02-11         t  $1,155.00      $1,155.00   \n",
       "96     1325945  2020-04-11         t    $298.00        $298.00   \n",
       "97     1325945  2019-11-12         t    $298.00        $298.00   \n",
       "98     1370541  2019-10-03         f     $75.00         $75.00   \n",
       "99     1370541  2019-10-09         f     $75.00         $75.00   \n",
       "\n",
       "    minimum_nights  maximum_nights  \n",
       "0              1.0           365.0  \n",
       "1              1.0           365.0  \n",
       "2              1.0            30.0  \n",
       "3              1.0            30.0  \n",
       "4              3.0           365.0  \n",
       "..             ...             ...  \n",
       "95             1.0            60.0  \n",
       "96             2.0          1125.0  \n",
       "97             2.0          1125.0  \n",
       "98             3.0            30.0  \n",
       "99             3.0            30.0  \n",
       "\n",
       "[100 rows x 7 columns]"
      ]
     },
     "execution_count": 31,
     "metadata": {},
     "output_type": "execute_result"
    }
   ],
   "source": [
    "sample_calendar.head(100)"
   ]
  },
  {
   "cell_type": "code",
   "execution_count": 32,
   "id": "3a539613",
   "metadata": {},
   "outputs": [
    {
     "data": {
      "text/plain": [
       "listing_id        0\n",
       "date              0\n",
       "available         0\n",
       "price             0\n",
       "adjusted_price    0\n",
       "minimum_nights    0\n",
       "maximum_nights    0\n",
       "dtype: int64"
      ]
     },
     "execution_count": 32,
     "metadata": {},
     "output_type": "execute_result"
    }
   ],
   "source": [
    "sample_calendar.isna().sum()"
   ]
  },
  {
   "cell_type": "code",
   "execution_count": 35,
   "id": "d7b97152",
   "metadata": {},
   "outputs": [],
   "source": [
    "sample_calendar.to_csv('calendar_final.csv',index=False)"
   ]
  },
  {
   "cell_type": "code",
   "execution_count": null,
   "id": "d3b57c7a",
   "metadata": {},
   "outputs": [],
   "source": []
  }
 ],
 "metadata": {
  "kernelspec": {
   "display_name": "Python 3",
   "language": "python",
   "name": "python3"
  },
  "language_info": {
   "codemirror_mode": {
    "name": "ipython",
    "version": 3
   },
   "file_extension": ".py",
   "mimetype": "text/x-python",
   "name": "python",
   "nbconvert_exporter": "python",
   "pygments_lexer": "ipython3",
   "version": "3.7.10"
  }
 },
 "nbformat": 4,
 "nbformat_minor": 5
}
