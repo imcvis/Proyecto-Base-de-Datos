{
 "cells": [
  {
   "cell_type": "code",
   "execution_count": 1,
   "id": "7f4f1422",
   "metadata": {},
   "outputs": [],
   "source": [
    "import pandas as pd\n",
    "import numpy as np"
   ]
  },
  {
   "cell_type": "markdown",
   "id": "42da192c",
   "metadata": {},
   "source": [
    "### Cargar datos"
   ]
  },
  {
   "cell_type": "code",
   "execution_count": 2,
   "id": "00816e91",
   "metadata": {},
   "outputs": [],
   "source": [
    "listings = pd.read_csv(\"Beijing Airbnb Data(clean)/listings_clean.csv\")"
   ]
  },
  {
   "cell_type": "code",
   "execution_count": 49,
   "id": "d115b2d3",
   "metadata": {},
   "outputs": [],
   "source": [
    "calendar = pd.read_csv(\"Beijing Airbnb Data(clean)/calendar_detail.csv\")"
   ]
  },
  {
   "cell_type": "code",
   "execution_count": 16,
   "id": "1a050c0a",
   "metadata": {
    "scrolled": true
   },
   "outputs": [],
   "source": [
    "reviews = pd.read_csv(\"Beijing Airbnb Data(clean)/reviews_detail.csv\")"
   ]
  },
  {
   "cell_type": "code",
   "execution_count": 5,
   "id": "a2e243dc",
   "metadata": {
    "scrolled": true
   },
   "outputs": [
    {
     "name": "stdout",
     "output_type": "stream",
     "text": [
      "(28448, 15) (202099, 5) (10384980, 7)\n"
     ]
    }
   ],
   "source": [
    "print(listings.shape,reviews.shape,calendar.shape)"
   ]
  },
  {
   "cell_type": "markdown",
   "id": "50349d00",
   "metadata": {},
   "source": [
    "#### Pre-procesamiento listings"
   ]
  },
  {
   "cell_type": "code",
   "execution_count": 6,
   "id": "0340b9b6",
   "metadata": {
    "scrolled": false
   },
   "outputs": [
    {
     "data": {
      "text/html": [
       "<div>\n",
       "<style scoped>\n",
       "    .dataframe tbody tr th:only-of-type {\n",
       "        vertical-align: middle;\n",
       "    }\n",
       "\n",
       "    .dataframe tbody tr th {\n",
       "        vertical-align: top;\n",
       "    }\n",
       "\n",
       "    .dataframe thead th {\n",
       "        text-align: right;\n",
       "    }\n",
       "</style>\n",
       "<table border=\"1\" class=\"dataframe\">\n",
       "  <thead>\n",
       "    <tr style=\"text-align: right;\">\n",
       "      <th></th>\n",
       "      <th>id</th>\n",
       "      <th>name</th>\n",
       "      <th>host_id</th>\n",
       "      <th>host_name</th>\n",
       "      <th>neighbourhood</th>\n",
       "      <th>latitude</th>\n",
       "      <th>longitude</th>\n",
       "      <th>room_type</th>\n",
       "      <th>price</th>\n",
       "      <th>minimum_nights</th>\n",
       "      <th>number_of_reviews</th>\n",
       "      <th>last_review</th>\n",
       "      <th>reviews_per_month</th>\n",
       "      <th>calculated_host_listings_count</th>\n",
       "      <th>availability_365</th>\n",
       "    </tr>\n",
       "  </thead>\n",
       "  <tbody>\n",
       "    <tr>\n",
       "      <th>0</th>\n",
       "      <td>44054</td>\n",
       "      <td>Modern and Comfortable Living in CBD</td>\n",
       "      <td>192875</td>\n",
       "      <td>East Apartments</td>\n",
       "      <td>朝阳区</td>\n",
       "      <td>39.89503</td>\n",
       "      <td>116.45163</td>\n",
       "      <td>Entire home/apt</td>\n",
       "      <td>792</td>\n",
       "      <td>1</td>\n",
       "      <td>89</td>\n",
       "      <td>2019-03-04</td>\n",
       "      <td>0.85</td>\n",
       "      <td>9</td>\n",
       "      <td>341</td>\n",
       "    </tr>\n",
       "    <tr>\n",
       "      <th>1</th>\n",
       "      <td>100213</td>\n",
       "      <td>The Great Wall Box Deluxe Suite A团园长城小院东院套房</td>\n",
       "      <td>527062</td>\n",
       "      <td>Joe</td>\n",
       "      <td>密云县</td>\n",
       "      <td>40.68434</td>\n",
       "      <td>117.17231</td>\n",
       "      <td>Private room</td>\n",
       "      <td>1201</td>\n",
       "      <td>1</td>\n",
       "      <td>2</td>\n",
       "      <td>2017-10-08</td>\n",
       "      <td>0.10</td>\n",
       "      <td>4</td>\n",
       "      <td>0</td>\n",
       "    </tr>\n",
       "    <tr>\n",
       "      <th>2</th>\n",
       "      <td>128496</td>\n",
       "      <td>Heart of Beijing: House with View 2</td>\n",
       "      <td>467520</td>\n",
       "      <td>Cindy</td>\n",
       "      <td>东城区</td>\n",
       "      <td>39.93213</td>\n",
       "      <td>116.42200</td>\n",
       "      <td>Entire home/apt</td>\n",
       "      <td>389</td>\n",
       "      <td>3</td>\n",
       "      <td>259</td>\n",
       "      <td>2019-02-05</td>\n",
       "      <td>2.70</td>\n",
       "      <td>1</td>\n",
       "      <td>93</td>\n",
       "    </tr>\n",
       "    <tr>\n",
       "      <th>3</th>\n",
       "      <td>161902</td>\n",
       "      <td>cozy studio in center of Beijing</td>\n",
       "      <td>707535</td>\n",
       "      <td>Robert</td>\n",
       "      <td>东城区</td>\n",
       "      <td>39.93357</td>\n",
       "      <td>116.43577</td>\n",
       "      <td>Entire home/apt</td>\n",
       "      <td>376</td>\n",
       "      <td>1</td>\n",
       "      <td>26</td>\n",
       "      <td>2016-12-03</td>\n",
       "      <td>0.28</td>\n",
       "      <td>5</td>\n",
       "      <td>290</td>\n",
       "    </tr>\n",
       "    <tr>\n",
       "      <th>4</th>\n",
       "      <td>162144</td>\n",
       "      <td>nice studio near subway, sleep 4</td>\n",
       "      <td>707535</td>\n",
       "      <td>Robert</td>\n",
       "      <td>朝阳区</td>\n",
       "      <td>39.93668</td>\n",
       "      <td>116.43798</td>\n",
       "      <td>Entire home/apt</td>\n",
       "      <td>537</td>\n",
       "      <td>1</td>\n",
       "      <td>37</td>\n",
       "      <td>2018-08-01</td>\n",
       "      <td>0.40</td>\n",
       "      <td>5</td>\n",
       "      <td>352</td>\n",
       "    </tr>\n",
       "  </tbody>\n",
       "</table>\n",
       "</div>"
      ],
      "text/plain": [
       "       id                                         name  host_id  \\\n",
       "0   44054         Modern and Comfortable Living in CBD   192875   \n",
       "1  100213  The Great Wall Box Deluxe Suite A团园长城小院东院套房   527062   \n",
       "2  128496          Heart of Beijing: House with View 2   467520   \n",
       "3  161902             cozy studio in center of Beijing   707535   \n",
       "4  162144            nice studio near subway, sleep 4    707535   \n",
       "\n",
       "         host_name neighbourhood  latitude  longitude        room_type  price  \\\n",
       "0  East Apartments          朝阳区   39.89503  116.45163  Entire home/apt    792   \n",
       "1              Joe          密云县   40.68434  117.17231     Private room   1201   \n",
       "2            Cindy           东城区  39.93213  116.42200  Entire home/apt    389   \n",
       "3           Robert           东城区  39.93357  116.43577  Entire home/apt    376   \n",
       "4           Robert          朝阳区   39.93668  116.43798  Entire home/apt    537   \n",
       "\n",
       "   minimum_nights  number_of_reviews last_review  reviews_per_month  \\\n",
       "0               1                 89  2019-03-04               0.85   \n",
       "1               1                  2  2017-10-08               0.10   \n",
       "2               3                259  2019-02-05               2.70   \n",
       "3               1                 26  2016-12-03               0.28   \n",
       "4               1                 37  2018-08-01               0.40   \n",
       "\n",
       "   calculated_host_listings_count  availability_365  \n",
       "0                               9               341  \n",
       "1                               4                 0  \n",
       "2                               1                93  \n",
       "3                               5               290  \n",
       "4                               5               352  "
      ]
     },
     "execution_count": 6,
     "metadata": {},
     "output_type": "execute_result"
    }
   ],
   "source": [
    "listings.head(5)"
   ]
  },
  {
   "cell_type": "code",
   "execution_count": 18,
   "id": "15cfa67d",
   "metadata": {
    "scrolled": true
   },
   "outputs": [
    {
     "data": {
      "text/plain": [
       "id                  0\n",
       "name                0\n",
       "host_id             0\n",
       "host_name           0\n",
       "room_type           0\n",
       "price               0\n",
       "minimum_nights      0\n",
       "availability_365    0\n",
       "dtype: int64"
      ]
     },
     "execution_count": 18,
     "metadata": {},
     "output_type": "execute_result"
    }
   ],
   "source": [
    "listings.isna().sum()"
   ]
  },
  {
   "cell_type": "code",
   "execution_count": 11,
   "id": "2c8d9840",
   "metadata": {},
   "outputs": [],
   "source": [
    "listings['last_review']=listings['last_review'].replace(np.nan, 'No reviews', regex=True)"
   ]
  },
  {
   "cell_type": "code",
   "execution_count": 12,
   "id": "545c0d50",
   "metadata": {},
   "outputs": [
    {
     "data": {
      "text/plain": [
       "id                                0\n",
       "name                              0\n",
       "host_id                           0\n",
       "host_name                         0\n",
       "neighbourhood                     0\n",
       "latitude                          0\n",
       "longitude                         0\n",
       "room_type                         0\n",
       "price                             0\n",
       "minimum_nights                    0\n",
       "number_of_reviews                 0\n",
       "last_review                       0\n",
       "reviews_per_month                 0\n",
       "calculated_host_listings_count    0\n",
       "availability_365                  0\n",
       "dtype: int64"
      ]
     },
     "execution_count": 12,
     "metadata": {},
     "output_type": "execute_result"
    }
   ],
   "source": [
    "listings.isna().sum()"
   ]
  },
  {
   "cell_type": "code",
   "execution_count": 13,
   "id": "db2fba7b",
   "metadata": {},
   "outputs": [],
   "source": [
    "loc=listings[['id','latitude','longitude']]"
   ]
  },
  {
   "cell_type": "code",
   "execution_count": 15,
   "id": "8a1424cc",
   "metadata": {},
   "outputs": [],
   "source": [
    "loc.to_csv('db_final/location.csv',index=False)"
   ]
  },
  {
   "cell_type": "code",
   "execution_count": 16,
   "id": "85641407",
   "metadata": {},
   "outputs": [],
   "source": [
    "listings=listings.drop(['neighbourhood','number_of_reviews','last_review','reviews_per_month',\n",
    "                        'calculated_host_listings_count','latitude','longitude'], axis=1)"
   ]
  },
  {
   "cell_type": "code",
   "execution_count": 17,
   "id": "9a8eaf45",
   "metadata": {},
   "outputs": [],
   "source": [
    "listings.to_csv('listings_final.csv',index=False) #para traducir"
   ]
  },
  {
   "cell_type": "code",
   "execution_count": 5,
   "id": "f8013ddd",
   "metadata": {},
   "outputs": [],
   "source": [
    "listings = pd.read_csv(\"table_listing.csv\") #traducido"
   ]
  },
  {
   "cell_type": "code",
   "execution_count": 6,
   "id": "89affdea",
   "metadata": {
    "scrolled": true
   },
   "outputs": [
    {
     "data": {
      "text/html": [
       "<div>\n",
       "<style scoped>\n",
       "    .dataframe tbody tr th:only-of-type {\n",
       "        vertical-align: middle;\n",
       "    }\n",
       "\n",
       "    .dataframe tbody tr th {\n",
       "        vertical-align: top;\n",
       "    }\n",
       "\n",
       "    .dataframe thead th {\n",
       "        text-align: right;\n",
       "    }\n",
       "</style>\n",
       "<table border=\"1\" class=\"dataframe\">\n",
       "  <thead>\n",
       "    <tr style=\"text-align: right;\">\n",
       "      <th></th>\n",
       "      <th>id</th>\n",
       "      <th>name</th>\n",
       "      <th>host_id</th>\n",
       "      <th>host_name</th>\n",
       "      <th>room_type</th>\n",
       "      <th>price</th>\n",
       "      <th>minimum_nights</th>\n",
       "      <th>availability_365</th>\n",
       "      <th>Unnamed: 8</th>\n",
       "      <th>name_en</th>\n",
       "      <th>host_name_en</th>\n",
       "    </tr>\n",
       "  </thead>\n",
       "  <tbody>\n",
       "    <tr>\n",
       "      <th>0</th>\n",
       "      <td>44054</td>\n",
       "      <td>Modern and Comfortable Living in CBD</td>\n",
       "      <td>192875</td>\n",
       "      <td>East Apartments</td>\n",
       "      <td>Entire home/apt</td>\n",
       "      <td>792</td>\n",
       "      <td>1</td>\n",
       "      <td>341</td>\n",
       "      <td>NaN</td>\n",
       "      <td>Modern and Comfortable Living in CBD</td>\n",
       "      <td>East Apartments</td>\n",
       "    </tr>\n",
       "    <tr>\n",
       "      <th>1</th>\n",
       "      <td>100213</td>\n",
       "      <td>The Great Wall Box Deluxe Suite A团园长城小院东院套房</td>\n",
       "      <td>527062</td>\n",
       "      <td>Joe</td>\n",
       "      <td>Private room</td>\n",
       "      <td>1201</td>\n",
       "      <td>1</td>\n",
       "      <td>0</td>\n",
       "      <td>NaN</td>\n",
       "      <td>The Great Wall Box Deluxe Suite A Group Garden...</td>\n",
       "      <td>Joe</td>\n",
       "    </tr>\n",
       "    <tr>\n",
       "      <th>2</th>\n",
       "      <td>128496</td>\n",
       "      <td>Heart of Beijing: House with View 2</td>\n",
       "      <td>467520</td>\n",
       "      <td>Cindy</td>\n",
       "      <td>Entire home/apt</td>\n",
       "      <td>389</td>\n",
       "      <td>3</td>\n",
       "      <td>93</td>\n",
       "      <td>NaN</td>\n",
       "      <td>Heart of Beijing: House with View 2</td>\n",
       "      <td>Cindy</td>\n",
       "    </tr>\n",
       "    <tr>\n",
       "      <th>3</th>\n",
       "      <td>161902</td>\n",
       "      <td>cozy studio in center of Beijing</td>\n",
       "      <td>707535</td>\n",
       "      <td>Robert</td>\n",
       "      <td>Entire home/apt</td>\n",
       "      <td>376</td>\n",
       "      <td>1</td>\n",
       "      <td>290</td>\n",
       "      <td>NaN</td>\n",
       "      <td>cozy studio in center of Beijing</td>\n",
       "      <td>Robert</td>\n",
       "    </tr>\n",
       "    <tr>\n",
       "      <th>4</th>\n",
       "      <td>162144</td>\n",
       "      <td>nice studio near subway, sleep 4</td>\n",
       "      <td>707535</td>\n",
       "      <td>Robert</td>\n",
       "      <td>Entire home/apt</td>\n",
       "      <td>537</td>\n",
       "      <td>1</td>\n",
       "      <td>352</td>\n",
       "      <td>NaN</td>\n",
       "      <td>nice studio near subway, sleep 4</td>\n",
       "      <td>Robert</td>\n",
       "    </tr>\n",
       "  </tbody>\n",
       "</table>\n",
       "</div>"
      ],
      "text/plain": [
       "       id                                         name  host_id  \\\n",
       "0   44054         Modern and Comfortable Living in CBD   192875   \n",
       "1  100213  The Great Wall Box Deluxe Suite A团园长城小院东院套房   527062   \n",
       "2  128496          Heart of Beijing: House with View 2   467520   \n",
       "3  161902             cozy studio in center of Beijing   707535   \n",
       "4  162144            nice studio near subway, sleep 4    707535   \n",
       "\n",
       "         host_name        room_type  price  minimum_nights  availability_365  \\\n",
       "0  East Apartments  Entire home/apt    792               1               341   \n",
       "1              Joe     Private room   1201               1                 0   \n",
       "2            Cindy  Entire home/apt    389               3                93   \n",
       "3           Robert  Entire home/apt    376               1               290   \n",
       "4           Robert  Entire home/apt    537               1               352   \n",
       "\n",
       "   Unnamed: 8                                            name_en  \\\n",
       "0         NaN               Modern and Comfortable Living in CBD   \n",
       "1         NaN  The Great Wall Box Deluxe Suite A Group Garden...   \n",
       "2         NaN                Heart of Beijing: House with View 2   \n",
       "3         NaN                   cozy studio in center of Beijing   \n",
       "4         NaN                  nice studio near subway, sleep 4    \n",
       "\n",
       "      host_name_en  \n",
       "0  East Apartments  \n",
       "1              Joe  \n",
       "2            Cindy  \n",
       "3           Robert  \n",
       "4           Robert  "
      ]
     },
     "execution_count": 6,
     "metadata": {},
     "output_type": "execute_result"
    }
   ],
   "source": [
    "listings.head(5)"
   ]
  },
  {
   "cell_type": "code",
   "execution_count": 7,
   "id": "db79909a",
   "metadata": {},
   "outputs": [],
   "source": [
    "listings=listings.drop(['name','host_name', 'Unnamed: 8'], axis=1)\n",
    "listings.rename(columns={'name_en': 'name', 'host_name_en':'host_name'}, inplace=True)"
   ]
  },
  {
   "cell_type": "code",
   "execution_count": 8,
   "id": "dcc4b98d",
   "metadata": {},
   "outputs": [],
   "source": [
    "listings=listings[['id','name','host_id','host_name','room_type','price','minimum_nights','availability_365']]"
   ]
  },
  {
   "cell_type": "code",
   "execution_count": 9,
   "id": "06027d23",
   "metadata": {},
   "outputs": [
    {
     "name": "stderr",
     "output_type": "stream",
     "text": [
      "<ipython-input-9-d2caa83fa581>:1: FutureWarning: The default value of regex will change from True to False in a future version.\n",
      "  listings['name']=listings['name'].str.replace(r'\\n', ' ')\n",
      "<ipython-input-9-d2caa83fa581>:2: FutureWarning: The default value of regex will change from True to False in a future version.\n",
      "  listings['name']=listings['name'].str.replace('\\s+', ' ')\n",
      "<ipython-input-9-d2caa83fa581>:3: FutureWarning: The default value of regex will change from True to False in a future version.\n",
      "  listings['name']=listings['name'].str.replace('[^0-9a-zA-Z.,\\s]', ' ')\n"
     ]
    }
   ],
   "source": [
    "listings['name']=listings['name'].str.replace(r'\\n', ' ')\n",
    "listings['name']=listings['name'].str.replace('\\s+', ' ')\n",
    "listings['name']=listings['name'].str.replace('[^0-9a-zA-Z.,\\s]', ' ')"
   ]
  },
  {
   "cell_type": "code",
   "execution_count": 10,
   "id": "03432d4c",
   "metadata": {},
   "outputs": [
    {
     "data": {
      "text/html": [
       "<div>\n",
       "<style scoped>\n",
       "    .dataframe tbody tr th:only-of-type {\n",
       "        vertical-align: middle;\n",
       "    }\n",
       "\n",
       "    .dataframe tbody tr th {\n",
       "        vertical-align: top;\n",
       "    }\n",
       "\n",
       "    .dataframe thead th {\n",
       "        text-align: right;\n",
       "    }\n",
       "</style>\n",
       "<table border=\"1\" class=\"dataframe\">\n",
       "  <thead>\n",
       "    <tr style=\"text-align: right;\">\n",
       "      <th></th>\n",
       "      <th>id</th>\n",
       "      <th>name</th>\n",
       "      <th>host_id</th>\n",
       "      <th>host_name</th>\n",
       "      <th>room_type</th>\n",
       "      <th>price</th>\n",
       "      <th>minimum_nights</th>\n",
       "      <th>availability_365</th>\n",
       "    </tr>\n",
       "  </thead>\n",
       "  <tbody>\n",
       "    <tr>\n",
       "      <th>0</th>\n",
       "      <td>44054</td>\n",
       "      <td>Modern and Comfortable Living in CBD</td>\n",
       "      <td>192875</td>\n",
       "      <td>East Apartments</td>\n",
       "      <td>Entire home/apt</td>\n",
       "      <td>792</td>\n",
       "      <td>1</td>\n",
       "      <td>341</td>\n",
       "    </tr>\n",
       "    <tr>\n",
       "      <th>1</th>\n",
       "      <td>100213</td>\n",
       "      <td>The Great Wall Box Deluxe Suite A Group Garden...</td>\n",
       "      <td>527062</td>\n",
       "      <td>Joe</td>\n",
       "      <td>Private room</td>\n",
       "      <td>1201</td>\n",
       "      <td>1</td>\n",
       "      <td>0</td>\n",
       "    </tr>\n",
       "    <tr>\n",
       "      <th>2</th>\n",
       "      <td>128496</td>\n",
       "      <td>Heart of Beijing  House with View 2</td>\n",
       "      <td>467520</td>\n",
       "      <td>Cindy</td>\n",
       "      <td>Entire home/apt</td>\n",
       "      <td>389</td>\n",
       "      <td>3</td>\n",
       "      <td>93</td>\n",
       "    </tr>\n",
       "    <tr>\n",
       "      <th>3</th>\n",
       "      <td>161902</td>\n",
       "      <td>cozy studio in center of Beijing</td>\n",
       "      <td>707535</td>\n",
       "      <td>Robert</td>\n",
       "      <td>Entire home/apt</td>\n",
       "      <td>376</td>\n",
       "      <td>1</td>\n",
       "      <td>290</td>\n",
       "    </tr>\n",
       "    <tr>\n",
       "      <th>4</th>\n",
       "      <td>162144</td>\n",
       "      <td>nice studio near subway, sleep 4</td>\n",
       "      <td>707535</td>\n",
       "      <td>Robert</td>\n",
       "      <td>Entire home/apt</td>\n",
       "      <td>537</td>\n",
       "      <td>1</td>\n",
       "      <td>352</td>\n",
       "    </tr>\n",
       "  </tbody>\n",
       "</table>\n",
       "</div>"
      ],
      "text/plain": [
       "       id                                               name  host_id  \\\n",
       "0   44054               Modern and Comfortable Living in CBD   192875   \n",
       "1  100213  The Great Wall Box Deluxe Suite A Group Garden...   527062   \n",
       "2  128496                Heart of Beijing  House with View 2   467520   \n",
       "3  161902                   cozy studio in center of Beijing   707535   \n",
       "4  162144                  nice studio near subway, sleep 4    707535   \n",
       "\n",
       "         host_name        room_type  price  minimum_nights  availability_365  \n",
       "0  East Apartments  Entire home/apt    792               1               341  \n",
       "1              Joe     Private room   1201               1                 0  \n",
       "2            Cindy  Entire home/apt    389               3                93  \n",
       "3           Robert  Entire home/apt    376               1               290  \n",
       "4           Robert  Entire home/apt    537               1               352  "
      ]
     },
     "execution_count": 10,
     "metadata": {},
     "output_type": "execute_result"
    }
   ],
   "source": [
    "listings.head(5)"
   ]
  },
  {
   "cell_type": "code",
   "execution_count": 11,
   "id": "c07d86fc",
   "metadata": {},
   "outputs": [],
   "source": [
    "listings.to_csv('db_final/listings.csv',index=False)"
   ]
  },
  {
   "cell_type": "markdown",
   "id": "b8822367",
   "metadata": {},
   "source": [
    "#### Pre-procesamiento reviews"
   ]
  },
  {
   "cell_type": "code",
   "execution_count": 17,
   "id": "dac776e7",
   "metadata": {},
   "outputs": [],
   "source": [
    "for x in reviews.listing_id.array:\n",
    "    if x not in listings.id.array:\n",
    "        reviews.drop(reviews.loc[reviews['listing_id']==x].index, inplace=True)"
   ]
  },
  {
   "cell_type": "code",
   "execution_count": 18,
   "id": "aec0ea9e",
   "metadata": {},
   "outputs": [
    {
     "data": {
      "text/plain": [
       "(202018, 5)"
      ]
     },
     "execution_count": 18,
     "metadata": {},
     "output_type": "execute_result"
    }
   ],
   "source": [
    "reviews.shape"
   ]
  },
  {
   "cell_type": "code",
   "execution_count": 19,
   "id": "7d686e46",
   "metadata": {},
   "outputs": [
    {
     "data": {
      "text/plain": [
       "17293"
      ]
     },
     "execution_count": 19,
     "metadata": {},
     "output_type": "execute_result"
    }
   ],
   "source": [
    "len(reviews.listing_id.unique())"
   ]
  },
  {
   "cell_type": "code",
   "execution_count": 37,
   "id": "72407173",
   "metadata": {},
   "outputs": [],
   "source": [
    "n = reviews.shape[0]\n",
    "reviews_sample = reviews.groupby('listing_id', group_keys=False).apply(lambda x: x.sample(int(np.ceil(50000*len(x)/len(reviews))))).sample(frac=1).reset_index(drop=True)\n",
    "\n"
   ]
  },
  {
   "cell_type": "code",
   "execution_count": 38,
   "id": "c456bcc1",
   "metadata": {},
   "outputs": [
    {
     "data": {
      "text/plain": [
       "17293"
      ]
     },
     "execution_count": 38,
     "metadata": {},
     "output_type": "execute_result"
    }
   ],
   "source": [
    "len(reviews.listing_id.unique())"
   ]
  },
  {
   "cell_type": "code",
   "execution_count": 39,
   "id": "8ad98b01",
   "metadata": {},
   "outputs": [
    {
     "data": {
      "text/html": [
       "<div>\n",
       "<style scoped>\n",
       "    .dataframe tbody tr th:only-of-type {\n",
       "        vertical-align: middle;\n",
       "    }\n",
       "\n",
       "    .dataframe tbody tr th {\n",
       "        vertical-align: top;\n",
       "    }\n",
       "\n",
       "    .dataframe thead th {\n",
       "        text-align: right;\n",
       "    }\n",
       "</style>\n",
       "<table border=\"1\" class=\"dataframe\">\n",
       "  <thead>\n",
       "    <tr style=\"text-align: right;\">\n",
       "      <th></th>\n",
       "      <th>listing_id</th>\n",
       "      <th>id</th>\n",
       "      <th>date</th>\n",
       "      <th>reviewer_name</th>\n",
       "      <th>comments</th>\n",
       "    </tr>\n",
       "  </thead>\n",
       "  <tbody>\n",
       "    <tr>\n",
       "      <th>0</th>\n",
       "      <td>13812306</td>\n",
       "      <td>93210846</td>\n",
       "      <td>11-08-16</td>\n",
       "      <td>代</td>\n",
       "      <td>【我宅】位置便利 大门门面不大 晚上入住的住客要注意看一下 距离周围景点都很近 吃的喝的一条...</td>\n",
       "    </tr>\n",
       "    <tr>\n",
       "      <th>1</th>\n",
       "      <td>28789220</td>\n",
       "      <td>404695224</td>\n",
       "      <td>25-01-19</td>\n",
       "      <td>Congge</td>\n",
       "      <td>非常感谢小姐姐给我们这一个月的住宿,一切来说都很完美,非常好沟通,住的十分舒服,距离上班和地...</td>\n",
       "    </tr>\n",
       "    <tr>\n",
       "      <th>2</th>\n",
       "      <td>25020050</td>\n",
       "      <td>263824879</td>\n",
       "      <td>13-05-18</td>\n",
       "      <td>Xeen</td>\n",
       "      <td>很好的房东,很干净的房间~</td>\n",
       "    </tr>\n",
       "    <tr>\n",
       "      <th>3</th>\n",
       "      <td>29947072</td>\n",
       "      <td>426745032</td>\n",
       "      <td>22-03-19</td>\n",
       "      <td>记忆</td>\n",
       "      <td>房间很干净,沟通也很及时,位置好找,交通非常便利,环境很安全,性价比高｡</td>\n",
       "    </tr>\n",
       "    <tr>\n",
       "      <th>4</th>\n",
       "      <td>32509266</td>\n",
       "      <td>426722613</td>\n",
       "      <td>22-03-19</td>\n",
       "      <td>忠正</td>\n",
       "      <td>房东是个帅气的小伙子,非常安静的屋子,也干净,总之是非常愉快的体验!</td>\n",
       "    </tr>\n",
       "  </tbody>\n",
       "</table>\n",
       "</div>"
      ],
      "text/plain": [
       "   listing_id         id      date reviewer_name  \\\n",
       "0    13812306   93210846  11-08-16             代   \n",
       "1    28789220  404695224  25-01-19        Congge   \n",
       "2    25020050  263824879  13-05-18          Xeen   \n",
       "3    29947072  426745032  22-03-19            记忆   \n",
       "4    32509266  426722613  22-03-19            忠正   \n",
       "\n",
       "                                            comments  \n",
       "0  【我宅】位置便利 大门门面不大 晚上入住的住客要注意看一下 距离周围景点都很近 吃的喝的一条...  \n",
       "1  非常感谢小姐姐给我们这一个月的住宿,一切来说都很完美,非常好沟通,住的十分舒服,距离上班和地...  \n",
       "2                                      很好的房东,很干净的房间~  \n",
       "3               房间很干净,沟通也很及时,位置好找,交通非常便利,环境很安全,性价比高｡  \n",
       "4                 房东是个帅气的小伙子,非常安静的屋子,也干净,总之是非常愉快的体验!  "
      ]
     },
     "execution_count": 39,
     "metadata": {},
     "output_type": "execute_result"
    }
   ],
   "source": [
    "reviews_sample.head(5)"
   ]
  },
  {
   "cell_type": "code",
   "execution_count": 40,
   "id": "323a848c",
   "metadata": {
    "scrolled": true
   },
   "outputs": [
    {
     "data": {
      "text/plain": [
       "(58381, 5)"
      ]
     },
     "execution_count": 40,
     "metadata": {},
     "output_type": "execute_result"
    }
   ],
   "source": [
    "reviews_sample.shape"
   ]
  },
  {
   "cell_type": "code",
   "execution_count": 41,
   "id": "52a2c445",
   "metadata": {},
   "outputs": [],
   "source": [
    "reviews_sample.to_csv('reviews_final.csv',index=False) #a traducir"
   ]
  },
  {
   "cell_type": "code",
   "execution_count": 2,
   "id": "1d5e99b6",
   "metadata": {},
   "outputs": [],
   "source": [
    "reviews = pd.read_csv(\"reviews_final2.csv\") #traducido"
   ]
  },
  {
   "cell_type": "code",
   "execution_count": 3,
   "id": "225ef255",
   "metadata": {
    "scrolled": true
   },
   "outputs": [
    {
     "data": {
      "text/html": [
       "<div>\n",
       "<style scoped>\n",
       "    .dataframe tbody tr th:only-of-type {\n",
       "        vertical-align: middle;\n",
       "    }\n",
       "\n",
       "    .dataframe tbody tr th {\n",
       "        vertical-align: top;\n",
       "    }\n",
       "\n",
       "    .dataframe thead th {\n",
       "        text-align: right;\n",
       "    }\n",
       "</style>\n",
       "<table border=\"1\" class=\"dataframe\">\n",
       "  <thead>\n",
       "    <tr style=\"text-align: right;\">\n",
       "      <th></th>\n",
       "      <th>listing_id</th>\n",
       "      <th>id</th>\n",
       "      <th>date</th>\n",
       "      <th>reviewer_name</th>\n",
       "      <th>comments</th>\n",
       "      <th>rev_new</th>\n",
       "      <th>com_new</th>\n",
       "    </tr>\n",
       "  </thead>\n",
       "  <tbody>\n",
       "    <tr>\n",
       "      <th>0</th>\n",
       "      <td>13812306.0</td>\n",
       "      <td>93210846.0</td>\n",
       "      <td>11-08-16</td>\n",
       "      <td>代</td>\n",
       "      <td>【我宅】位置便利 大门门面不大 晚上入住的住客要注意看一下 距离周围景点都很近 吃的喝的一条街都有</td>\n",
       "      <td>generation</td>\n",
       "      <td>[My House] The position of the convenience of ...</td>\n",
       "    </tr>\n",
       "    <tr>\n",
       "      <th>1</th>\n",
       "      <td>28789220.0</td>\n",
       "      <td>404695224.0</td>\n",
       "      <td>25-01-19</td>\n",
       "      <td>Congge</td>\n",
       "      <td>非常感谢小姐姐给我们这一个月的住宿,一切来说都很完美,非常好沟通,住的十分舒服,距离上班和地...</td>\n",
       "      <td>Congge</td>\n",
       "      <td>I am very grateful to the little sister to giv...</td>\n",
       "    </tr>\n",
       "    <tr>\n",
       "      <th>2</th>\n",
       "      <td>25020050.0</td>\n",
       "      <td>263824879.0</td>\n",
       "      <td>13-05-18</td>\n",
       "      <td>Xeen</td>\n",
       "      <td>很好的房东,很干净的房间~</td>\n",
       "      <td>Xeen</td>\n",
       "      <td>Very good landlord, very clean room ~</td>\n",
       "    </tr>\n",
       "    <tr>\n",
       "      <th>3</th>\n",
       "      <td>29947072.0</td>\n",
       "      <td>426745032.0</td>\n",
       "      <td>22-03-19</td>\n",
       "      <td>记忆</td>\n",
       "      <td>房间很干净,沟通也很及时,位置好找,交通非常便利,环境很安全,性价比高｡</td>\n",
       "      <td>memory</td>\n",
       "      <td>The room is very clean, communication is also ...</td>\n",
       "    </tr>\n",
       "    <tr>\n",
       "      <th>4</th>\n",
       "      <td>32509266.0</td>\n",
       "      <td>426722613.0</td>\n",
       "      <td>22-03-19</td>\n",
       "      <td>忠正</td>\n",
       "      <td>房东是个帅气的小伙子,非常安静的屋子,也干净,总之是非常愉快的体验!</td>\n",
       "      <td>Loyal</td>\n",
       "      <td>The landlord is a handsome young man, very qui...</td>\n",
       "    </tr>\n",
       "  </tbody>\n",
       "</table>\n",
       "</div>"
      ],
      "text/plain": [
       "   listing_id           id      date reviewer_name  \\\n",
       "0  13812306.0   93210846.0  11-08-16             代   \n",
       "1  28789220.0  404695224.0  25-01-19        Congge   \n",
       "2  25020050.0  263824879.0  13-05-18          Xeen   \n",
       "3  29947072.0  426745032.0  22-03-19            记忆   \n",
       "4  32509266.0  426722613.0  22-03-19            忠正   \n",
       "\n",
       "                                            comments     rev_new  \\\n",
       "0  【我宅】位置便利 大门门面不大 晚上入住的住客要注意看一下 距离周围景点都很近 吃的喝的一条街都有  generation   \n",
       "1  非常感谢小姐姐给我们这一个月的住宿,一切来说都很完美,非常好沟通,住的十分舒服,距离上班和地...      Congge   \n",
       "2                                      很好的房东,很干净的房间~        Xeen   \n",
       "3               房间很干净,沟通也很及时,位置好找,交通非常便利,环境很安全,性价比高｡      memory   \n",
       "4                 房东是个帅气的小伙子,非常安静的屋子,也干净,总之是非常愉快的体验!       Loyal   \n",
       "\n",
       "                                             com_new  \n",
       "0  [My House] The position of the convenience of ...  \n",
       "1  I am very grateful to the little sister to giv...  \n",
       "2              Very good landlord, very clean room ~  \n",
       "3  The room is very clean, communication is also ...  \n",
       "4  The landlord is a handsome young man, very qui...  "
      ]
     },
     "execution_count": 3,
     "metadata": {},
     "output_type": "execute_result"
    }
   ],
   "source": [
    "reviews.head(5)"
   ]
  },
  {
   "cell_type": "code",
   "execution_count": 5,
   "id": "967cddb6",
   "metadata": {},
   "outputs": [],
   "source": [
    "reviews=reviews.drop(['reviewer_name','comments'], axis=1)\n",
    "reviews.rename(columns={'rev_new': 'reviewer_name', 'com_new':'comments'}, inplace=True)"
   ]
  },
  {
   "cell_type": "code",
   "execution_count": 6,
   "id": "a38a04e8",
   "metadata": {},
   "outputs": [
    {
     "data": {
      "text/html": [
       "<div>\n",
       "<style scoped>\n",
       "    .dataframe tbody tr th:only-of-type {\n",
       "        vertical-align: middle;\n",
       "    }\n",
       "\n",
       "    .dataframe tbody tr th {\n",
       "        vertical-align: top;\n",
       "    }\n",
       "\n",
       "    .dataframe thead th {\n",
       "        text-align: right;\n",
       "    }\n",
       "</style>\n",
       "<table border=\"1\" class=\"dataframe\">\n",
       "  <thead>\n",
       "    <tr style=\"text-align: right;\">\n",
       "      <th></th>\n",
       "      <th>listing_id</th>\n",
       "      <th>id</th>\n",
       "      <th>date</th>\n",
       "      <th>reviewer_name</th>\n",
       "      <th>comments</th>\n",
       "    </tr>\n",
       "  </thead>\n",
       "  <tbody>\n",
       "    <tr>\n",
       "      <th>0</th>\n",
       "      <td>13812306.0</td>\n",
       "      <td>93210846.0</td>\n",
       "      <td>11-08-16</td>\n",
       "      <td>generation</td>\n",
       "      <td>[My House] The position of the convenience of ...</td>\n",
       "    </tr>\n",
       "    <tr>\n",
       "      <th>1</th>\n",
       "      <td>28789220.0</td>\n",
       "      <td>404695224.0</td>\n",
       "      <td>25-01-19</td>\n",
       "      <td>Congge</td>\n",
       "      <td>I am very grateful to the little sister to giv...</td>\n",
       "    </tr>\n",
       "    <tr>\n",
       "      <th>2</th>\n",
       "      <td>25020050.0</td>\n",
       "      <td>263824879.0</td>\n",
       "      <td>13-05-18</td>\n",
       "      <td>Xeen</td>\n",
       "      <td>Very good landlord, very clean room ~</td>\n",
       "    </tr>\n",
       "    <tr>\n",
       "      <th>3</th>\n",
       "      <td>29947072.0</td>\n",
       "      <td>426745032.0</td>\n",
       "      <td>22-03-19</td>\n",
       "      <td>memory</td>\n",
       "      <td>The room is very clean, communication is also ...</td>\n",
       "    </tr>\n",
       "    <tr>\n",
       "      <th>4</th>\n",
       "      <td>32509266.0</td>\n",
       "      <td>426722613.0</td>\n",
       "      <td>22-03-19</td>\n",
       "      <td>Loyal</td>\n",
       "      <td>The landlord is a handsome young man, very qui...</td>\n",
       "    </tr>\n",
       "  </tbody>\n",
       "</table>\n",
       "</div>"
      ],
      "text/plain": [
       "   listing_id           id      date reviewer_name  \\\n",
       "0  13812306.0   93210846.0  11-08-16    generation   \n",
       "1  28789220.0  404695224.0  25-01-19        Congge   \n",
       "2  25020050.0  263824879.0  13-05-18          Xeen   \n",
       "3  29947072.0  426745032.0  22-03-19        memory   \n",
       "4  32509266.0  426722613.0  22-03-19         Loyal   \n",
       "\n",
       "                                            comments  \n",
       "0  [My House] The position of the convenience of ...  \n",
       "1  I am very grateful to the little sister to giv...  \n",
       "2              Very good landlord, very clean room ~  \n",
       "3  The room is very clean, communication is also ...  \n",
       "4  The landlord is a handsome young man, very qui...  "
      ]
     },
     "execution_count": 6,
     "metadata": {},
     "output_type": "execute_result"
    }
   ],
   "source": [
    "reviews.head(5)"
   ]
  },
  {
   "cell_type": "code",
   "execution_count": 7,
   "id": "74504066",
   "metadata": {},
   "outputs": [
    {
     "name": "stderr",
     "output_type": "stream",
     "text": [
      "<ipython-input-7-4f1c0b100152>:1: FutureWarning: The default value of regex will change from True to False in a future version.\n",
      "  reviews['comments']=reviews['comments'].str.replace(r'\\n', ' ')\n",
      "<ipython-input-7-4f1c0b100152>:2: FutureWarning: The default value of regex will change from True to False in a future version.\n",
      "  reviews['comments']=reviews['comments'].str.replace('\\s+', ' ')\n",
      "<ipython-input-7-4f1c0b100152>:3: FutureWarning: The default value of regex will change from True to False in a future version.\n",
      "  reviews['comments']=reviews['comments'].str.replace('[^0-9a-zA-Z.,\\s]', ' ')\n",
      "<ipython-input-7-4f1c0b100152>:4: FutureWarning: The default value of regex will change from True to False in a future version.\n",
      "  reviews['reviewer_name']=reviews['reviewer_name'].str.replace(r'\\n', ' ')\n",
      "<ipython-input-7-4f1c0b100152>:5: FutureWarning: The default value of regex will change from True to False in a future version.\n",
      "  reviews['reviewer_name']=reviews['reviewer_name'].str.replace('\\s+', ' ')\n",
      "<ipython-input-7-4f1c0b100152>:6: FutureWarning: The default value of regex will change from True to False in a future version.\n",
      "  reviews['reviewer_name']=reviews['reviewer_name'].str.replace('[^0-9a-zA-Z.,\\s]', ' ')\n"
     ]
    }
   ],
   "source": [
    "reviews['comments']=reviews['comments'].str.replace(r'\\n', ' ')\n",
    "reviews['comments']=reviews['comments'].str.replace('\\s+', ' ')\n",
    "reviews['comments']=reviews['comments'].str.replace('[^0-9a-zA-Z.,\\s]', ' ')\n",
    "reviews['reviewer_name']=reviews['reviewer_name'].str.replace(r'\\n', ' ')\n",
    "reviews['reviewer_name']=reviews['reviewer_name'].str.replace('\\s+', ' ')\n",
    "reviews['reviewer_name']=reviews['reviewer_name'].str.replace('[^0-9a-zA-Z.,\\s]', ' ')"
   ]
  },
  {
   "cell_type": "code",
   "execution_count": 8,
   "id": "593e6198",
   "metadata": {
    "scrolled": true
   },
   "outputs": [
    {
     "data": {
      "text/html": [
       "<div>\n",
       "<style scoped>\n",
       "    .dataframe tbody tr th:only-of-type {\n",
       "        vertical-align: middle;\n",
       "    }\n",
       "\n",
       "    .dataframe tbody tr th {\n",
       "        vertical-align: top;\n",
       "    }\n",
       "\n",
       "    .dataframe thead th {\n",
       "        text-align: right;\n",
       "    }\n",
       "</style>\n",
       "<table border=\"1\" class=\"dataframe\">\n",
       "  <thead>\n",
       "    <tr style=\"text-align: right;\">\n",
       "      <th></th>\n",
       "      <th>listing_id</th>\n",
       "      <th>id</th>\n",
       "      <th>date</th>\n",
       "      <th>reviewer_name</th>\n",
       "      <th>comments</th>\n",
       "    </tr>\n",
       "  </thead>\n",
       "  <tbody>\n",
       "    <tr>\n",
       "      <th>0</th>\n",
       "      <td>13812306.0</td>\n",
       "      <td>93210846.0</td>\n",
       "      <td>11-08-16</td>\n",
       "      <td>generation</td>\n",
       "      <td>My House  The position of the convenience of ...</td>\n",
       "    </tr>\n",
       "    <tr>\n",
       "      <th>1</th>\n",
       "      <td>28789220.0</td>\n",
       "      <td>404695224.0</td>\n",
       "      <td>25-01-19</td>\n",
       "      <td>Congge</td>\n",
       "      <td>I am very grateful to the little sister to giv...</td>\n",
       "    </tr>\n",
       "    <tr>\n",
       "      <th>2</th>\n",
       "      <td>25020050.0</td>\n",
       "      <td>263824879.0</td>\n",
       "      <td>13-05-18</td>\n",
       "      <td>Xeen</td>\n",
       "      <td>Very good landlord, very clean room</td>\n",
       "    </tr>\n",
       "    <tr>\n",
       "      <th>3</th>\n",
       "      <td>29947072.0</td>\n",
       "      <td>426745032.0</td>\n",
       "      <td>22-03-19</td>\n",
       "      <td>memory</td>\n",
       "      <td>The room is very clean, communication is also ...</td>\n",
       "    </tr>\n",
       "    <tr>\n",
       "      <th>4</th>\n",
       "      <td>32509266.0</td>\n",
       "      <td>426722613.0</td>\n",
       "      <td>22-03-19</td>\n",
       "      <td>Loyal</td>\n",
       "      <td>The landlord is a handsome young man, very qui...</td>\n",
       "    </tr>\n",
       "  </tbody>\n",
       "</table>\n",
       "</div>"
      ],
      "text/plain": [
       "   listing_id           id      date reviewer_name  \\\n",
       "0  13812306.0   93210846.0  11-08-16    generation   \n",
       "1  28789220.0  404695224.0  25-01-19        Congge   \n",
       "2  25020050.0  263824879.0  13-05-18          Xeen   \n",
       "3  29947072.0  426745032.0  22-03-19        memory   \n",
       "4  32509266.0  426722613.0  22-03-19         Loyal   \n",
       "\n",
       "                                            comments  \n",
       "0   My House  The position of the convenience of ...  \n",
       "1  I am very grateful to the little sister to giv...  \n",
       "2              Very good landlord, very clean room    \n",
       "3  The room is very clean, communication is also ...  \n",
       "4  The landlord is a handsome young man, very qui...  "
      ]
     },
     "execution_count": 8,
     "metadata": {},
     "output_type": "execute_result"
    }
   ],
   "source": [
    "reviews.head(5)"
   ]
  },
  {
   "cell_type": "code",
   "execution_count": 9,
   "id": "ebc2c155",
   "metadata": {},
   "outputs": [
    {
     "data": {
      "text/plain": [
       "listing_id        2\n",
       "id                2\n",
       "date              2\n",
       "reviewer_name    26\n",
       "comments          1\n",
       "dtype: int64"
      ]
     },
     "execution_count": 9,
     "metadata": {},
     "output_type": "execute_result"
    }
   ],
   "source": [
    "reviews.isna().sum()"
   ]
  },
  {
   "cell_type": "code",
   "execution_count": 10,
   "id": "1f6ed000",
   "metadata": {},
   "outputs": [],
   "source": [
    "reviews.dropna(inplace=True)"
   ]
  },
  {
   "cell_type": "code",
   "execution_count": 11,
   "id": "31a5b60c",
   "metadata": {},
   "outputs": [
    {
     "data": {
      "text/plain": [
       "listing_id       0\n",
       "id               0\n",
       "date             0\n",
       "reviewer_name    0\n",
       "comments         0\n",
       "dtype: int64"
      ]
     },
     "execution_count": 11,
     "metadata": {},
     "output_type": "execute_result"
    }
   ],
   "source": [
    "reviews.isna().sum()"
   ]
  },
  {
   "cell_type": "code",
   "execution_count": 12,
   "id": "f62a3f14",
   "metadata": {
    "scrolled": true
   },
   "outputs": [
    {
     "data": {
      "text/plain": [
       "(58356, 5)"
      ]
     },
     "execution_count": 12,
     "metadata": {},
     "output_type": "execute_result"
    }
   ],
   "source": [
    "reviews.shape"
   ]
  },
  {
   "cell_type": "code",
   "execution_count": 19,
   "id": "a47935c1",
   "metadata": {},
   "outputs": [],
   "source": [
    "reviews = reviews.astype({\"listing_id\": int, \"id\": int})\n",
    "reviews['date'] = pd.to_datetime(reviews['date'], format='%d-%m-%y').dt.strftime('%Y-%m-%d')\n"
   ]
  },
  {
   "cell_type": "code",
   "execution_count": 20,
   "id": "8f1573fc",
   "metadata": {
    "scrolled": true
   },
   "outputs": [
    {
     "data": {
      "text/html": [
       "<div>\n",
       "<style scoped>\n",
       "    .dataframe tbody tr th:only-of-type {\n",
       "        vertical-align: middle;\n",
       "    }\n",
       "\n",
       "    .dataframe tbody tr th {\n",
       "        vertical-align: top;\n",
       "    }\n",
       "\n",
       "    .dataframe thead th {\n",
       "        text-align: right;\n",
       "    }\n",
       "</style>\n",
       "<table border=\"1\" class=\"dataframe\">\n",
       "  <thead>\n",
       "    <tr style=\"text-align: right;\">\n",
       "      <th></th>\n",
       "      <th>listing_id</th>\n",
       "      <th>id</th>\n",
       "      <th>date</th>\n",
       "      <th>reviewer_name</th>\n",
       "      <th>comments</th>\n",
       "    </tr>\n",
       "  </thead>\n",
       "  <tbody>\n",
       "    <tr>\n",
       "      <th>0</th>\n",
       "      <td>13812306</td>\n",
       "      <td>93210846</td>\n",
       "      <td>2016-08-11</td>\n",
       "      <td>generation</td>\n",
       "      <td>My House  The position of the convenience of ...</td>\n",
       "    </tr>\n",
       "    <tr>\n",
       "      <th>1</th>\n",
       "      <td>28789220</td>\n",
       "      <td>404695224</td>\n",
       "      <td>2019-01-25</td>\n",
       "      <td>Congge</td>\n",
       "      <td>I am very grateful to the little sister to giv...</td>\n",
       "    </tr>\n",
       "    <tr>\n",
       "      <th>2</th>\n",
       "      <td>25020050</td>\n",
       "      <td>263824879</td>\n",
       "      <td>2018-05-13</td>\n",
       "      <td>Xeen</td>\n",
       "      <td>Very good landlord, very clean room</td>\n",
       "    </tr>\n",
       "    <tr>\n",
       "      <th>3</th>\n",
       "      <td>29947072</td>\n",
       "      <td>426745032</td>\n",
       "      <td>2019-03-22</td>\n",
       "      <td>memory</td>\n",
       "      <td>The room is very clean, communication is also ...</td>\n",
       "    </tr>\n",
       "    <tr>\n",
       "      <th>4</th>\n",
       "      <td>32509266</td>\n",
       "      <td>426722613</td>\n",
       "      <td>2019-03-22</td>\n",
       "      <td>Loyal</td>\n",
       "      <td>The landlord is a handsome young man, very qui...</td>\n",
       "    </tr>\n",
       "    <tr>\n",
       "      <th>5</th>\n",
       "      <td>12642399</td>\n",
       "      <td>264523265</td>\n",
       "      <td>2018-05-14</td>\n",
       "      <td>Handsome</td>\n",
       "      <td>Very good. Staying up is very comfortable, the...</td>\n",
       "    </tr>\n",
       "    <tr>\n",
       "      <th>6</th>\n",
       "      <td>24721135</td>\n",
       "      <td>429429664</td>\n",
       "      <td>2019-03-28</td>\n",
       "      <td>Jiayi</td>\n",
       "      <td>The homeowner is very enthusiastic, the house ...</td>\n",
       "    </tr>\n",
       "    <tr>\n",
       "      <th>7</th>\n",
       "      <td>32407931</td>\n",
       "      <td>437694932</td>\n",
       "      <td>2019-04-15</td>\n",
       "      <td>Phort</td>\n",
       "      <td>Quiet and comfortable, convenient transportation.</td>\n",
       "    </tr>\n",
       "    <tr>\n",
       "      <th>8</th>\n",
       "      <td>15889537</td>\n",
       "      <td>126873223</td>\n",
       "      <td>2017-01-14</td>\n",
       "      <td>Jade</td>\n",
       "      <td>The room is very big, there should be, live ve...</td>\n",
       "    </tr>\n",
       "    <tr>\n",
       "      <th>9</th>\n",
       "      <td>21488749</td>\n",
       "      <td>292831177</td>\n",
       "      <td>2018-07-19</td>\n",
       "      <td>Shang Ze</td>\n",
       "      <td>The passionate, neat, complete facilities, a g...</td>\n",
       "    </tr>\n",
       "  </tbody>\n",
       "</table>\n",
       "</div>"
      ],
      "text/plain": [
       "   listing_id         id        date reviewer_name  \\\n",
       "0    13812306   93210846  2016-08-11    generation   \n",
       "1    28789220  404695224  2019-01-25        Congge   \n",
       "2    25020050  263824879  2018-05-13          Xeen   \n",
       "3    29947072  426745032  2019-03-22        memory   \n",
       "4    32509266  426722613  2019-03-22         Loyal   \n",
       "5    12642399  264523265  2018-05-14      Handsome   \n",
       "6    24721135  429429664  2019-03-28         Jiayi   \n",
       "7    32407931  437694932  2019-04-15         Phort   \n",
       "8    15889537  126873223  2017-01-14          Jade   \n",
       "9    21488749  292831177  2018-07-19      Shang Ze   \n",
       "\n",
       "                                            comments  \n",
       "0   My House  The position of the convenience of ...  \n",
       "1  I am very grateful to the little sister to giv...  \n",
       "2              Very good landlord, very clean room    \n",
       "3  The room is very clean, communication is also ...  \n",
       "4  The landlord is a handsome young man, very qui...  \n",
       "5  Very good. Staying up is very comfortable, the...  \n",
       "6  The homeowner is very enthusiastic, the house ...  \n",
       "7  Quiet and comfortable, convenient transportation.  \n",
       "8  The room is very big, there should be, live ve...  \n",
       "9  The passionate, neat, complete facilities, a g...  "
      ]
     },
     "execution_count": 20,
     "metadata": {},
     "output_type": "execute_result"
    }
   ],
   "source": [
    "reviews.head(10)"
   ]
  },
  {
   "cell_type": "code",
   "execution_count": 16,
   "id": "e6eda627",
   "metadata": {},
   "outputs": [],
   "source": [
    "reviews.to_csv('db_final/reviews.csv',index=False)"
   ]
  },
  {
   "cell_type": "markdown",
   "id": "2c7652b0",
   "metadata": {},
   "source": [
    "#### Pre-procesamiento calendar"
   ]
  },
  {
   "cell_type": "code",
   "execution_count": 51,
   "id": "fe815ef5",
   "metadata": {},
   "outputs": [
    {
     "data": {
      "text/html": [
       "<div>\n",
       "<style scoped>\n",
       "    .dataframe tbody tr th:only-of-type {\n",
       "        vertical-align: middle;\n",
       "    }\n",
       "\n",
       "    .dataframe tbody tr th {\n",
       "        vertical-align: top;\n",
       "    }\n",
       "\n",
       "    .dataframe thead th {\n",
       "        text-align: right;\n",
       "    }\n",
       "</style>\n",
       "<table border=\"1\" class=\"dataframe\">\n",
       "  <thead>\n",
       "    <tr style=\"text-align: right;\">\n",
       "      <th></th>\n",
       "      <th>listing_id</th>\n",
       "      <th>date</th>\n",
       "      <th>available</th>\n",
       "      <th>price</th>\n",
       "      <th>adjusted_price</th>\n",
       "      <th>minimum_nights</th>\n",
       "      <th>maximum_nights</th>\n",
       "    </tr>\n",
       "  </thead>\n",
       "  <tbody>\n",
       "    <tr>\n",
       "      <th>0</th>\n",
       "      <td>1165040</td>\n",
       "      <td>2019-04-17</td>\n",
       "      <td>f</td>\n",
       "      <td>$511.00</td>\n",
       "      <td>$511.00</td>\n",
       "      <td>1.0</td>\n",
       "      <td>1125.0</td>\n",
       "    </tr>\n",
       "    <tr>\n",
       "      <th>1</th>\n",
       "      <td>1165040</td>\n",
       "      <td>2019-04-18</td>\n",
       "      <td>t</td>\n",
       "      <td>$511.00</td>\n",
       "      <td>$511.00</td>\n",
       "      <td>1.0</td>\n",
       "      <td>1125.0</td>\n",
       "    </tr>\n",
       "    <tr>\n",
       "      <th>2</th>\n",
       "      <td>1165040</td>\n",
       "      <td>2019-04-19</td>\n",
       "      <td>t</td>\n",
       "      <td>$511.00</td>\n",
       "      <td>$511.00</td>\n",
       "      <td>1.0</td>\n",
       "      <td>1125.0</td>\n",
       "    </tr>\n",
       "    <tr>\n",
       "      <th>3</th>\n",
       "      <td>1165040</td>\n",
       "      <td>2019-04-20</td>\n",
       "      <td>t</td>\n",
       "      <td>$511.00</td>\n",
       "      <td>$511.00</td>\n",
       "      <td>1.0</td>\n",
       "      <td>1125.0</td>\n",
       "    </tr>\n",
       "    <tr>\n",
       "      <th>4</th>\n",
       "      <td>1165040</td>\n",
       "      <td>2019-04-21</td>\n",
       "      <td>t</td>\n",
       "      <td>$511.00</td>\n",
       "      <td>$511.00</td>\n",
       "      <td>1.0</td>\n",
       "      <td>1125.0</td>\n",
       "    </tr>\n",
       "  </tbody>\n",
       "</table>\n",
       "</div>"
      ],
      "text/plain": [
       "   listing_id        date available    price adjusted_price  minimum_nights  \\\n",
       "0     1165040  2019-04-17         f  $511.00        $511.00             1.0   \n",
       "1     1165040  2019-04-18         t  $511.00        $511.00             1.0   \n",
       "2     1165040  2019-04-19         t  $511.00        $511.00             1.0   \n",
       "3     1165040  2019-04-20         t  $511.00        $511.00             1.0   \n",
       "4     1165040  2019-04-21         t  $511.00        $511.00             1.0   \n",
       "\n",
       "   maximum_nights  \n",
       "0          1125.0  \n",
       "1          1125.0  \n",
       "2          1125.0  \n",
       "3          1125.0  \n",
       "4          1125.0  "
      ]
     },
     "execution_count": 51,
     "metadata": {},
     "output_type": "execute_result"
    }
   ],
   "source": [
    "calendar.head(5)"
   ]
  },
  {
   "cell_type": "code",
   "execution_count": 52,
   "id": "f0c0d4d2",
   "metadata": {},
   "outputs": [
    {
     "data": {
      "text/plain": [
       "28452"
      ]
     },
     "execution_count": 52,
     "metadata": {},
     "output_type": "execute_result"
    }
   ],
   "source": [
    "len(calendar.listing_id.unique())"
   ]
  },
  {
   "cell_type": "code",
   "execution_count": 54,
   "id": "2e42631e",
   "metadata": {},
   "outputs": [
    {
     "name": "stderr",
     "output_type": "stream",
     "text": [
      "<ipython-input-54-f72a22eee1d9>:3: FutureWarning: The default value of regex will change from True to False in a future version. In addition, single character regular expressions will*not* be treated as literal strings when regex=True.\n",
      "  sample_calendar['price']=sample_calendar['price'].str.replace(r'$', '')\n",
      "<ipython-input-54-f72a22eee1d9>:5: FutureWarning: The default value of regex will change from True to False in a future version. In addition, single character regular expressions will*not* be treated as literal strings when regex=True.\n",
      "  sample_calendar['adjusted_price']=sample_calendar['adjusted_price'].str.replace(r'$', '')\n"
     ]
    }
   ],
   "source": [
    "sample_calendar = calendar.groupby('listing_id', group_keys=False).apply(lambda x: x.sample(int(np.ceil(50000*len(x)/len(calendar))))).sample(frac=1).reset_index(drop=True)\n",
    "sample_calendar['price']=sample_calendar['price'].str.replace(r',', '')\n",
    "sample_calendar['price']=sample_calendar['price'].str.replace(r'$', '')\n",
    "sample_calendar['adjusted_price']=sample_calendar['adjusted_price'].str.replace(r',', '')\n",
    "sample_calendar['adjusted_price']=sample_calendar['adjusted_price'].str.replace(r'$', '')"
   ]
  },
  {
   "cell_type": "code",
   "execution_count": 55,
   "id": "3f296f8c",
   "metadata": {},
   "outputs": [
    {
     "data": {
      "text/plain": [
       "28452"
      ]
     },
     "execution_count": 55,
     "metadata": {},
     "output_type": "execute_result"
    }
   ],
   "source": [
    "len(sample_calendar.listing_id.unique())"
   ]
  },
  {
   "cell_type": "code",
   "execution_count": 56,
   "id": "0a9de06f",
   "metadata": {},
   "outputs": [],
   "source": [
    "sample_calendar.reset_index(drop=True, inplace=True)\n",
    "sample_calendar.dropna(inplace=True)"
   ]
  },
  {
   "cell_type": "code",
   "execution_count": 57,
   "id": "3a539613",
   "metadata": {},
   "outputs": [
    {
     "data": {
      "text/plain": [
       "(56902, 7)"
      ]
     },
     "execution_count": 57,
     "metadata": {},
     "output_type": "execute_result"
    }
   ],
   "source": [
    "sample_calendar.shape"
   ]
  },
  {
   "cell_type": "code",
   "execution_count": 58,
   "id": "d7b97152",
   "metadata": {},
   "outputs": [],
   "source": [
    "sample_calendar.to_csv('db_final/calendar.csv',index=False)"
   ]
  },
  {
   "cell_type": "code",
   "execution_count": null,
   "id": "d3b57c7a",
   "metadata": {},
   "outputs": [],
   "source": []
  }
 ],
 "metadata": {
  "kernelspec": {
   "display_name": "Python 3",
   "language": "python",
   "name": "python3"
  },
  "language_info": {
   "codemirror_mode": {
    "name": "ipython",
    "version": 3
   },
   "file_extension": ".py",
   "mimetype": "text/x-python",
   "name": "python",
   "nbconvert_exporter": "python",
   "pygments_lexer": "ipython3",
   "version": "3.9.1"
  }
 },
 "nbformat": 4,
 "nbformat_minor": 5
}
